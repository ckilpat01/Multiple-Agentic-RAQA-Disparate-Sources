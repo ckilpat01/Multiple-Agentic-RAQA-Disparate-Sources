{
  "cells": [
    {
      "cell_type": "markdown",
      "metadata": {
        "id": "LqSZe3MmDuhP"
      },
      "source": [
        "# Agents For Questioning Napoleon and Alexander\n",
        "\n",
        "This notebook demonstrates multiple agentic queries of both the Napoleon and Alexander movies Wikipedia pages, as well as the corresponding web scrapped IMDB movie reviews. The IMDB review scraping was performed independently of this notebook.\n",
        "\n",
        "## Build\n",
        "\n",
        "This notebook:\n",
        "\n",
        "1. Contructs a Napoleon retriever.\n",
        "2. Constructs an Alexander retriever.\n",
        "3. Combines the two and allow users to agentically query both resources from a single input."
      ]
    },
    {
      "cell_type": "markdown",
      "metadata": {
        "id": "rykr9BkNDuhR"
      },
      "source": [
        "### Install Libraries"
      ]
    },
    {
      "cell_type": "code",
      "execution_count": 47,
      "metadata": {
        "id": "HSVsXgKDDuhS",
        "colab": {
          "base_uri": "https://localhost:8080/"
        },
        "outputId": "1c6c80f1-077f-4d6d-8e4b-ba4db66470b5"
      },
      "outputs": [
        {
          "output_type": "stream",
          "name": "stdout",
          "text": [
            "Requirement already satisfied: langchain_community==0.2.1 in /usr/local/lib/python3.10/dist-packages (0.2.1)\n",
            "Requirement already satisfied: PyYAML>=5.3 in /usr/local/lib/python3.10/dist-packages (from langchain_community==0.2.1) (6.0.1)\n",
            "Requirement already satisfied: SQLAlchemy<3,>=1.4 in /usr/local/lib/python3.10/dist-packages (from langchain_community==0.2.1) (2.0.30)\n",
            "Requirement already satisfied: aiohttp<4.0.0,>=3.8.3 in /usr/local/lib/python3.10/dist-packages (from langchain_community==0.2.1) (3.9.5)\n",
            "Requirement already satisfied: dataclasses-json<0.7,>=0.5.7 in /usr/local/lib/python3.10/dist-packages (from langchain_community==0.2.1) (0.6.6)\n",
            "Requirement already satisfied: langchain<0.3.0,>=0.2.0 in /usr/local/lib/python3.10/dist-packages (from langchain_community==0.2.1) (0.2.0)\n",
            "Requirement already satisfied: langchain-core<0.3.0,>=0.2.0 in /usr/local/lib/python3.10/dist-packages (from langchain_community==0.2.1) (0.2.3)\n",
            "Requirement already satisfied: langsmith<0.2.0,>=0.1.0 in /usr/local/lib/python3.10/dist-packages (from langchain_community==0.2.1) (0.1.67)\n",
            "Requirement already satisfied: numpy<2,>=1 in /usr/local/lib/python3.10/dist-packages (from langchain_community==0.2.1) (1.25.2)\n",
            "Requirement already satisfied: requests<3,>=2 in /usr/local/lib/python3.10/dist-packages (from langchain_community==0.2.1) (2.31.0)\n",
            "Requirement already satisfied: tenacity<9.0.0,>=8.1.0 in /usr/local/lib/python3.10/dist-packages (from langchain_community==0.2.1) (8.3.0)\n",
            "Requirement already satisfied: aiosignal>=1.1.2 in /usr/local/lib/python3.10/dist-packages (from aiohttp<4.0.0,>=3.8.3->langchain_community==0.2.1) (1.3.1)\n",
            "Requirement already satisfied: attrs>=17.3.0 in /usr/local/lib/python3.10/dist-packages (from aiohttp<4.0.0,>=3.8.3->langchain_community==0.2.1) (23.2.0)\n",
            "Requirement already satisfied: frozenlist>=1.1.1 in /usr/local/lib/python3.10/dist-packages (from aiohttp<4.0.0,>=3.8.3->langchain_community==0.2.1) (1.4.1)\n",
            "Requirement already satisfied: multidict<7.0,>=4.5 in /usr/local/lib/python3.10/dist-packages (from aiohttp<4.0.0,>=3.8.3->langchain_community==0.2.1) (6.0.5)\n",
            "Requirement already satisfied: yarl<2.0,>=1.0 in /usr/local/lib/python3.10/dist-packages (from aiohttp<4.0.0,>=3.8.3->langchain_community==0.2.1) (1.9.4)\n",
            "Requirement already satisfied: async-timeout<5.0,>=4.0 in /usr/local/lib/python3.10/dist-packages (from aiohttp<4.0.0,>=3.8.3->langchain_community==0.2.1) (4.0.3)\n",
            "Requirement already satisfied: marshmallow<4.0.0,>=3.18.0 in /usr/local/lib/python3.10/dist-packages (from dataclasses-json<0.7,>=0.5.7->langchain_community==0.2.1) (3.21.2)\n",
            "Requirement already satisfied: typing-inspect<1,>=0.4.0 in /usr/local/lib/python3.10/dist-packages (from dataclasses-json<0.7,>=0.5.7->langchain_community==0.2.1) (0.9.0)\n",
            "Requirement already satisfied: langchain-text-splitters<0.3.0,>=0.2.0 in /usr/local/lib/python3.10/dist-packages (from langchain<0.3.0,>=0.2.0->langchain_community==0.2.1) (0.2.0)\n",
            "Requirement already satisfied: pydantic<3,>=1 in /usr/local/lib/python3.10/dist-packages (from langchain<0.3.0,>=0.2.0->langchain_community==0.2.1) (2.7.1)\n",
            "Requirement already satisfied: jsonpatch<2.0,>=1.33 in /usr/local/lib/python3.10/dist-packages (from langchain-core<0.3.0,>=0.2.0->langchain_community==0.2.1) (1.33)\n",
            "Requirement already satisfied: packaging<24.0,>=23.2 in /usr/local/lib/python3.10/dist-packages (from langchain-core<0.3.0,>=0.2.0->langchain_community==0.2.1) (23.2)\n",
            "Requirement already satisfied: orjson<4.0.0,>=3.9.14 in /usr/local/lib/python3.10/dist-packages (from langsmith<0.2.0,>=0.1.0->langchain_community==0.2.1) (3.10.3)\n",
            "Requirement already satisfied: charset-normalizer<4,>=2 in /usr/local/lib/python3.10/dist-packages (from requests<3,>=2->langchain_community==0.2.1) (3.3.2)\n",
            "Requirement already satisfied: idna<4,>=2.5 in /usr/local/lib/python3.10/dist-packages (from requests<3,>=2->langchain_community==0.2.1) (3.7)\n",
            "Requirement already satisfied: urllib3<3,>=1.21.1 in /usr/local/lib/python3.10/dist-packages (from requests<3,>=2->langchain_community==0.2.1) (2.0.7)\n",
            "Requirement already satisfied: certifi>=2017.4.17 in /usr/local/lib/python3.10/dist-packages (from requests<3,>=2->langchain_community==0.2.1) (2024.2.2)\n",
            "Requirement already satisfied: typing-extensions>=4.6.0 in /usr/local/lib/python3.10/dist-packages (from SQLAlchemy<3,>=1.4->langchain_community==0.2.1) (4.11.0)\n",
            "Requirement already satisfied: greenlet!=0.4.17 in /usr/local/lib/python3.10/dist-packages (from SQLAlchemy<3,>=1.4->langchain_community==0.2.1) (3.0.3)\n",
            "Requirement already satisfied: jsonpointer>=1.9 in /usr/local/lib/python3.10/dist-packages (from jsonpatch<2.0,>=1.33->langchain-core<0.3.0,>=0.2.0->langchain_community==0.2.1) (2.4)\n",
            "Requirement already satisfied: annotated-types>=0.4.0 in /usr/local/lib/python3.10/dist-packages (from pydantic<3,>=1->langchain<0.3.0,>=0.2.0->langchain_community==0.2.1) (0.7.0)\n",
            "Requirement already satisfied: pydantic-core==2.18.2 in /usr/local/lib/python3.10/dist-packages (from pydantic<3,>=1->langchain<0.3.0,>=0.2.0->langchain_community==0.2.1) (2.18.2)\n",
            "Requirement already satisfied: mypy-extensions>=0.3.0 in /usr/local/lib/python3.10/dist-packages (from typing-inspect<1,>=0.4.0->dataclasses-json<0.7,>=0.5.7->langchain_community==0.2.1) (1.0.0)\n",
            "Requirement already satisfied: langchain-openai==0.1.8 in /usr/local/lib/python3.10/dist-packages (0.1.8)\n",
            "Requirement already satisfied: langchain-core<0.3,>=0.2.2 in /usr/local/lib/python3.10/dist-packages (from langchain-openai==0.1.8) (0.2.3)\n",
            "Requirement already satisfied: openai<2.0.0,>=1.26.0 in /usr/local/lib/python3.10/dist-packages (from langchain-openai==0.1.8) (1.30.5)\n",
            "Requirement already satisfied: tiktoken<1,>=0.7 in /usr/local/lib/python3.10/dist-packages (from langchain-openai==0.1.8) (0.7.0)\n",
            "Requirement already satisfied: PyYAML>=5.3 in /usr/local/lib/python3.10/dist-packages (from langchain-core<0.3,>=0.2.2->langchain-openai==0.1.8) (6.0.1)\n",
            "Requirement already satisfied: jsonpatch<2.0,>=1.33 in /usr/local/lib/python3.10/dist-packages (from langchain-core<0.3,>=0.2.2->langchain-openai==0.1.8) (1.33)\n",
            "Requirement already satisfied: langsmith<0.2.0,>=0.1.65 in /usr/local/lib/python3.10/dist-packages (from langchain-core<0.3,>=0.2.2->langchain-openai==0.1.8) (0.1.67)\n",
            "Requirement already satisfied: packaging<24.0,>=23.2 in /usr/local/lib/python3.10/dist-packages (from langchain-core<0.3,>=0.2.2->langchain-openai==0.1.8) (23.2)\n",
            "Requirement already satisfied: pydantic<3,>=1 in /usr/local/lib/python3.10/dist-packages (from langchain-core<0.3,>=0.2.2->langchain-openai==0.1.8) (2.7.1)\n",
            "Requirement already satisfied: tenacity<9.0.0,>=8.1.0 in /usr/local/lib/python3.10/dist-packages (from langchain-core<0.3,>=0.2.2->langchain-openai==0.1.8) (8.3.0)\n",
            "Requirement already satisfied: anyio<5,>=3.5.0 in /usr/local/lib/python3.10/dist-packages (from openai<2.0.0,>=1.26.0->langchain-openai==0.1.8) (3.7.1)\n",
            "Requirement already satisfied: distro<2,>=1.7.0 in /usr/lib/python3/dist-packages (from openai<2.0.0,>=1.26.0->langchain-openai==0.1.8) (1.7.0)\n",
            "Requirement already satisfied: httpx<1,>=0.23.0 in /usr/local/lib/python3.10/dist-packages (from openai<2.0.0,>=1.26.0->langchain-openai==0.1.8) (0.27.0)\n",
            "Requirement already satisfied: sniffio in /usr/local/lib/python3.10/dist-packages (from openai<2.0.0,>=1.26.0->langchain-openai==0.1.8) (1.3.1)\n",
            "Requirement already satisfied: tqdm>4 in /usr/local/lib/python3.10/dist-packages (from openai<2.0.0,>=1.26.0->langchain-openai==0.1.8) (4.66.4)\n",
            "Requirement already satisfied: typing-extensions<5,>=4.7 in /usr/local/lib/python3.10/dist-packages (from openai<2.0.0,>=1.26.0->langchain-openai==0.1.8) (4.11.0)\n",
            "Requirement already satisfied: regex>=2022.1.18 in /usr/local/lib/python3.10/dist-packages (from tiktoken<1,>=0.7->langchain-openai==0.1.8) (2024.5.15)\n",
            "Requirement already satisfied: requests>=2.26.0 in /usr/local/lib/python3.10/dist-packages (from tiktoken<1,>=0.7->langchain-openai==0.1.8) (2.31.0)\n",
            "Requirement already satisfied: idna>=2.8 in /usr/local/lib/python3.10/dist-packages (from anyio<5,>=3.5.0->openai<2.0.0,>=1.26.0->langchain-openai==0.1.8) (3.7)\n",
            "Requirement already satisfied: exceptiongroup in /usr/local/lib/python3.10/dist-packages (from anyio<5,>=3.5.0->openai<2.0.0,>=1.26.0->langchain-openai==0.1.8) (1.2.1)\n",
            "Requirement already satisfied: certifi in /usr/local/lib/python3.10/dist-packages (from httpx<1,>=0.23.0->openai<2.0.0,>=1.26.0->langchain-openai==0.1.8) (2024.2.2)\n",
            "Requirement already satisfied: httpcore==1.* in /usr/local/lib/python3.10/dist-packages (from httpx<1,>=0.23.0->openai<2.0.0,>=1.26.0->langchain-openai==0.1.8) (1.0.5)\n",
            "Requirement already satisfied: h11<0.15,>=0.13 in /usr/local/lib/python3.10/dist-packages (from httpcore==1.*->httpx<1,>=0.23.0->openai<2.0.0,>=1.26.0->langchain-openai==0.1.8) (0.14.0)\n",
            "Requirement already satisfied: jsonpointer>=1.9 in /usr/local/lib/python3.10/dist-packages (from jsonpatch<2.0,>=1.33->langchain-core<0.3,>=0.2.2->langchain-openai==0.1.8) (2.4)\n",
            "Requirement already satisfied: orjson<4.0.0,>=3.9.14 in /usr/local/lib/python3.10/dist-packages (from langsmith<0.2.0,>=0.1.65->langchain-core<0.3,>=0.2.2->langchain-openai==0.1.8) (3.10.3)\n",
            "Requirement already satisfied: annotated-types>=0.4.0 in /usr/local/lib/python3.10/dist-packages (from pydantic<3,>=1->langchain-core<0.3,>=0.2.2->langchain-openai==0.1.8) (0.7.0)\n",
            "Requirement already satisfied: pydantic-core==2.18.2 in /usr/local/lib/python3.10/dist-packages (from pydantic<3,>=1->langchain-core<0.3,>=0.2.2->langchain-openai==0.1.8) (2.18.2)\n",
            "Requirement already satisfied: charset-normalizer<4,>=2 in /usr/local/lib/python3.10/dist-packages (from requests>=2.26.0->tiktoken<1,>=0.7->langchain-openai==0.1.8) (3.3.2)\n",
            "Requirement already satisfied: urllib3<3,>=1.21.1 in /usr/local/lib/python3.10/dist-packages (from requests>=2.26.0->tiktoken<1,>=0.7->langchain-openai==0.1.8) (2.0.7)\n"
          ]
        }
      ],
      "source": [
        "# Install dependencies:\n",
        "import warnings\n",
        "warnings.filterwarnings('ignore')\n",
        "\n",
        "%pip install --upgrade --quiet langchain==0.2.0\n",
        "!pip install langchain_community==0.2.1\n",
        "!pip install -U langchain-openai==0.1.8\n",
        "!pip install -q -U wikipedia==1.4.0\n",
        "!pip install -q -U rank_bm25==0.2.2 tiktoken==0.7.0 faiss-gpu==1.7.2\n",
        "import getpass\n",
        "import os\n",
        "from langchain_openai import ChatOpenAI\n",
        "from langchain.document_loaders import WikipediaLoader, CSVLoader\n",
        "from langchain.text_splitter import RecursiveCharacterTextSplitter\n",
        "from langchain.retrievers import BM25Retriever, EnsembleRetriever\n",
        "from langchain.vectorstores import FAISS\n",
        "from langchain_openai import OpenAIEmbeddings\n",
        "from langchain.embeddings import CacheBackedEmbeddings\n",
        "from langchain.storage import LocalFileStore\n",
        "from langchain.agents.agent_toolkits import create_conversational_retrieval_agent\n",
        "from langchain.agents.agent_toolkits import create_retriever_tool\n",
        "from langchain.prompts import ChatPromptTemplate\n",
        "from langchain.agents import Tool\n",
        "from langchain.agents import ZeroShotAgent, AgentExecutor\n",
        "from langchain.chains import LLMChain\n",
        "import pandas as pd\n",
        "import tensorflow as tf"
      ]
    },
    {
      "cell_type": "code",
      "execution_count": 48,
      "metadata": {
        "id": "3iXKrrRa5cSK"
      },
      "outputs": [],
      "source": [
        "# Remove limit on column display width\n",
        "pd.options.display.max_colwidth = None"
      ]
    },
    {
      "cell_type": "code",
      "execution_count": 49,
      "metadata": {
        "colab": {
          "base_uri": "https://localhost:8080/"
        },
        "id": "8ahA2vyw5cSK",
        "outputId": "e0b09c09-87e4-4440-8409-c1382ce096d2"
      },
      "outputs": [
        {
          "output_type": "stream",
          "name": "stdout",
          "text": [
            "Using GPU\n"
          ]
        }
      ],
      "source": [
        "# Utilize GPU if available\n",
        "# Get the list of available physical devices\n",
        "physical_devices = tf.config.list_physical_devices('GPU')\n",
        "\n",
        "if len(physical_devices) > 0:\n",
        "    # If a GPU is available, use it\n",
        "    tf.config.experimental.set_memory_growth(physical_devices[0], True)\n",
        "    device = \"/GPU:0\"\n",
        "    print(\"Using GPU\")\n",
        "else:\n",
        "    # If no GPU is available, use CPU\n",
        "    device = \"/CPU:0\"\n",
        "    print(\"Using CPU\")"
      ]
    },
    {
      "cell_type": "code",
      "execution_count": 50,
      "metadata": {
        "colab": {
          "base_uri": "https://localhost:8080/"
        },
        "id": "7el18kLaDuhS",
        "outputId": "fa72b3c9-8103-4dc6-9995-0a1e258898d9"
      },
      "outputs": [
        {
          "name": "stdout",
          "output_type": "stream",
          "text": [
            "Enter your OpenAI API Key: ··········\n"
          ]
        }
      ],
      "source": [
        "openai_api_key = getpass.getpass(\"Enter your OpenAI API Key: \")\n",
        "os.environ[\"OPENAI_API_KEY\"] = openai_api_key"
      ]
    },
    {
      "cell_type": "markdown",
      "metadata": {
        "id": "zMjfT9VUDuhT"
      },
      "source": [
        "### LLM\n",
        "\n",
        "OpenAI's `gpt-4`is utilized."
      ]
    },
    {
      "cell_type": "code",
      "execution_count": 51,
      "metadata": {
        "id": "HAHdg6R4DuhT"
      },
      "outputs": [],
      "source": [
        "# Define llm\n",
        "llm = ChatOpenAI(model=\"gpt-4\", temperature = 0)"
      ]
    },
    {
      "cell_type": "markdown",
      "metadata": {
        "id": "1h90NIAqDuhT"
      },
      "source": [
        "### Data Collection and Transformation\n",
        "\n",
        "We'll be leveraging the `WikipediaLoader` tool to collect information from Wikipedia.\n",
        "\n",
        "Be sure to set the `doc_content_chars_max` parameter so that you capture the *entire* Wikipedia article content."
      ]
    },
    {
      "cell_type": "code",
      "execution_count": 52,
      "metadata": {
        "id": "gDuANPsMDuhT"
      },
      "outputs": [],
      "source": [
        "# Definition of Napoleon document retrieval and csv loader\n",
        "# from langchain.document_loaders import WikipediaLoader, CSVLoader\n",
        "\n",
        "napoleon_wikipedia_docs = WikipediaLoader(\n",
        "    query=\"Napoleon (2023 film)\",\n",
        "    load_max_docs = 1,\n",
        "    doc_content_chars_max = 1_000_000\n",
        "    ).load()\n",
        "\n",
        "# Load csv file that was previously scrapped from the IMDB movie review website\n",
        "napoleon_csv_docs = CSVLoader(\n",
        "    file_path = \"/content/napoleon.csv\",\n",
        "    source_column = \"Review_Url\"\n",
        "    ).load()"
      ]
    },
    {
      "cell_type": "code",
      "execution_count": 53,
      "metadata": {
        "id": "GCI7nMDnDuhT"
      },
      "outputs": [],
      "source": [
        "# Import recursive character text splitter\n",
        "# from langchain.text_splitter import RecursiveCharacterTextSplitter\n",
        "\n",
        "wikipedia_text_splitter = RecursiveCharacterTextSplitter(\n",
        "    chunk_size = 500,\n",
        "    chunk_overlap = 0,\n",
        "    length_function = len,\n",
        "    is_separator_regex= False,\n",
        "    separators = [\"\\n==\", \"\\n\", \" \"] # keep headings, then paragraphs, then sentences\n",
        ")\n",
        "\n",
        "csv_text_splitter = RecursiveCharacterTextSplitter(\n",
        "    chunk_size = 1000,\n",
        "    chunk_overlap = 50,\n",
        "    length_function = len,\n",
        "    is_separator_regex = False,\n",
        "    separators = [\"\\n\", \" \"] # keep paragraphs, then sentences\n",
        ")\n",
        "\n",
        "chunked_napoleon_wikipedia_docs = wikipedia_text_splitter.transform_documents(napoleon_wikipedia_docs)\n",
        "chunked_napoleon_csv_docs = csv_text_splitter.transform_documents(napoleon_csv_docs)"
      ]
    },
    {
      "cell_type": "markdown",
      "metadata": {
        "id": "aV6q7qyxDuhT"
      },
      "source": [
        "#### Retrieval and Embedding"
      ]
    },
    {
      "cell_type": "code",
      "execution_count": 54,
      "metadata": {
        "id": "QjlRCSzWDuhU"
      },
      "outputs": [],
      "source": [
        "# set up cached embeddings store\n",
        "store = LocalFileStore(\"./shared_cache/\")\n",
        "\n",
        "# Select embedding model\n",
        "core_embeddings_model = OpenAIEmbeddings()\n",
        "\n",
        "# Select cached embedding\n",
        "embedder = CacheBackedEmbeddings.from_bytes_store(\n",
        "    core_embeddings_model, store, namespace=core_embeddings_model.model\n",
        ")\n"
      ]
    },
    {
      "cell_type": "code",
      "execution_count": 55,
      "metadata": {
        "id": "1621MTFUDuhU"
      },
      "outputs": [],
      "source": [
        "# Implement FAISS vectorsstore and create retriever\n",
        "napoleon_csv_faiss_retriever = FAISS.from_documents(chunked_napoleon_csv_docs, embedder).as_retriever()"
      ]
    },
    {
      "cell_type": "markdown",
      "metadata": {
        "id": "Pu5D8iKcDuhU"
      },
      "source": [
        "### Create Ensemble Retriever\n",
        "\n",
        "The process is:\n",
        "\n",
        "1. Collect results from two different retrieval methods over the same corpus\n",
        "2. Apply a reranking algorithm to rerank source documents to select the most relevant without losing specific or potentially low-ranked information rich documents\n",
        "3. Feed the top-k results into the LLM with the query as context."
      ]
    },
    {
      "cell_type": "code",
      "execution_count": 56,
      "metadata": {
        "id": "V18qPC18DuhU"
      },
      "outputs": [],
      "source": [
        "# Set up BM25 retriever\n",
        "napoleon_wikipedia_bm25_retriever = BM25Retriever.from_documents(\n",
        "    chunked_napoleon_wikipedia_docs\n",
        ")\n",
        "\n",
        "napoleon_wikipedia_bm25_retriever.k = 1\n",
        "\n",
        "# Set up FAISS vector store\n",
        "napoleon_wikipedia_faiss_store = FAISS.from_documents(\n",
        "    chunked_napoleon_wikipedia_docs,\n",
        "    embedder\n",
        ")\n",
        "\n",
        "napoleon_wikipedia_faiss_retriever = napoleon_wikipedia_faiss_store.as_retriever(search_kwargs={\"k\": 1})\n",
        "\n",
        "# Set up ensemble retriever with 75% weighting to FAISS retriever and 25% weighting to BM25 retriever\n",
        "napoleon_ensemble_retriever = EnsembleRetriever(\n",
        "    retrievers = [napoleon_wikipedia_bm25_retriever, napoleon_wikipedia_faiss_retriever],\n",
        "    weights = [0.25, 0.75]\n",
        ")"
      ]
    },
    {
      "cell_type": "markdown",
      "metadata": {
        "id": "EMo4rfz_DuhU"
      },
      "source": [
        "#### Create Retrieval Tools and Agents"
      ]
    },
    {
      "cell_type": "code",
      "execution_count": 57,
      "metadata": {
        "id": "7aYjIYr1DuhU"
      },
      "outputs": [],
      "source": [
        "# Create simple conversational retrieval tools\n",
        "\n",
        "# Define wikipedia retrieval tool\n",
        "napoleon_wikipedia_retrieval_tool = create_retriever_tool(\n",
        "    napoleon_ensemble_retriever,\n",
        "    \"Wikipedia\",\n",
        "    \"Searches and returns documents regarding the plot, history, and cast of the Napoleon movie\"\n",
        ")\n",
        "\n",
        "# Define csv retrieval tool\n",
        "napoleon_csv_retrieval_tool = create_retriever_tool(\n",
        "     napoleon_csv_faiss_retriever,\n",
        "    \"PublicReviews\",\n",
        "    \"Searches and returns documents regarding public reviews of the Napoleon movie\"\n",
        ")\n",
        "\n",
        "# Define Napoleon_retrieval_tools list\n",
        "napoleon_retriever_tools = [napoleon_wikipedia_retrieval_tool, napoleon_csv_retrieval_tool]"
      ]
    },
    {
      "cell_type": "code",
      "execution_count": 58,
      "metadata": {
        "id": "ZtYRTon7DuhU"
      },
      "outputs": [],
      "source": [
        "# Combine Napoleon retrieval tools into an agent\n",
        "napoleon_retriever_agent_executor = create_conversational_retrieval_agent(llm, napoleon_retriever_tools, verbose=True)"
      ]
    },
    {
      "cell_type": "code",
      "execution_count": 59,
      "metadata": {
        "colab": {
          "base_uri": "https://localhost:8080/"
        },
        "id": "S1aprAxlDuhU",
        "outputId": "20da1b65-19a5-4e7d-c2db-632ea1f9e0dd"
      },
      "outputs": [
        {
          "output_type": "stream",
          "name": "stdout",
          "text": [
            "\n",
            "\n",
            "\u001b[1m> Entering new AgentExecutor chain...\u001b[0m\n",
            "\u001b[32;1m\u001b[1;3m\n",
            "Invoking: `PublicReviews` with `{'query': 'historical accuracy of Napoleon movie'}`\n",
            "\n",
            "\n",
            "\u001b[0m\u001b[33;1m\u001b[1;3mReview_Date: 11-Dec-23\n",
            "Author: apereztenessa-1\n",
            "Rating: 7\n",
            "Review_Title: Innovative in its way to depict a historic legend\n",
            "Review: Napoleon has been a surprise hit, and how much ink has been spent on the film may be one reason for its success. Rarely in recent history has a film been so widely criticized for its historical inaccuracies. We didn't hear that kind of backlash for The Crown or Bridgerton, so why such disappointment in historic representation in this specific case?\n",
            "Review_Url: /review/rw9450470/?ref_=tt_urv\n",
            "\n",
            "Review: This should have been called \"Napoleon and Josephine\" because, frankly, there's too much of Josephine in it, and not nearly enough of the brilliance and personality of Bonaparte. The historical inaccuracies are manifold. I read that director Scott says that \"If you weren't there then you can **** off\". Well I was not there, but the erroneous simplification of one of history's greatest characters shows Scott wasn't there either. The battle scenes are gaining accolades, but even they shouldn't. Wrong and over simplified. If you are going to make a movie about Napoleon, his generalship should have taken centre-stage, not his domestic tussles with the Missus. A grand disappointment. An artilleryman, as Napoleon was, taking part in a cavalry charge? I don't think so! Oh, how I wish Kubrick had carried through to make his version. I give this six stars, mostly for having the courage to take on such a mighty story. Too bad it fell far short of its subject matter.\n",
            "\n",
            "Review_Date: 24-Nov-23\n",
            "Author: esyurt\n",
            "Rating: 8\n",
            "Review_Title: Great balance of action and drama.\n",
            "Review: The movie consists of a beautiful balance of drama and action. For those who like action you will not be disappointed the war scenes are amazing. I feel as though those giving low ratings are just salty because of the depiction of napoleon I'm not a historian but I would assume they tried to capture his personality as close to reality as they could and this may have offended the frenchies. The only thing negative I can say is that the timeline is excessively shortened in order to fit the movie time limit, it's a shame these historic movies aren't filmed over multiple movies to retain intricate detail.\n",
            "Review_Url: /review/rw9450470/?ref_=tt_urv\n",
            "\n",
            "Review: Although not Shakespearean, nor is there much French tongue, this movie delivers a convincing portrayal of European aristocracy of the 1790s and early 1800s. Gorgeously fathomed costumes, grand architecture and brutal battle scenes where if you blink you might miss a startling effect. There is also some slomo battle sequences which are welcomed as well. Well paced movie for entertainment value. Its not a deep dive into the ins and outs of European politics of the late 18th century, but a well rounded portrayal of the reign of Napoleon. Like a greatest hits album of his reign. The famous battle of Waterloo is also portrayed, having the most on screen battalions in formation I can think of. More so than the battles in the Gettysburg movie. But not as many cannon. Gettysburg has an awesome cannonade sequence that is the best put to film yet. Like 2 minutes straight of cannon firing. I love it. But, yes, the battles in Napoleon deliver striking effects and large processions of\u001b[0m\u001b[32;1m\u001b[1;3mYes, there were comments about the historical accuracy of the Napoleon movie. The sentiment about the historical accuracy was mixed. Some reviewers criticized the film for its historical inaccuracies, stating that the film oversimplified the character of Napoleon and did not accurately depict his military genius. They also pointed out specific scenes, such as an artilleryman taking part in a cavalry charge, as being historically inaccurate. \n",
            "\n",
            "However, other reviewers seemed to be more forgiving of the historical inaccuracies, stating that the movie was a well-rounded portrayal of Napoleon's reign and that it delivered a convincing portrayal of European aristocracy of the 1790s and early 1800s. They also praised the film for its battle scenes and costumes. \n",
            "\n",
            "Overall, while some viewers were disappointed with the historical inaccuracies, others seemed to enjoy the film for its entertainment value and did not seem to be overly concerned with its historical accuracy.\u001b[0m\n",
            "\n",
            "\u001b[1m> Finished chain.\u001b[0m\n"
          ]
        },
        {
          "output_type": "execute_result",
          "data": {
            "text/plain": [
              "{'input': 'Were there comments about whether Napoleon was a historically accurate movie? If there were, what was the sentiment about the historical accuracy?',\n",
              " 'chat_history': [HumanMessage(content='Were there comments about whether Napoleon was a historically accurate movie? If there were, what was the sentiment about the historical accuracy?'),\n",
              "  AIMessage(content='', additional_kwargs={'function_call': {'arguments': '{\\n  \"query\": \"historical accuracy of Napoleon movie\"\\n}', 'name': 'PublicReviews'}}, response_metadata={'token_usage': {'completion_tokens': 20, 'prompt_tokens': 151, 'total_tokens': 171}, 'model_name': 'gpt-4', 'system_fingerprint': None, 'finish_reason': 'function_call', 'logprobs': None}, id='run-ded8c6d6-2dee-4bb5-a48c-9911a567d81f-0', usage_metadata={'input_tokens': 151, 'output_tokens': 20, 'total_tokens': 171}),\n",
              "  FunctionMessage(content='Review_Date: 11-Dec-23\\nAuthor: apereztenessa-1\\nRating: 7\\nReview_Title: Innovative in its way to depict a historic legend\\nReview: Napoleon has been a surprise hit, and how much ink has been spent on the film may be one reason for its success. Rarely in recent history has a film been so widely criticized for its historical inaccuracies. We didn\\'t hear that kind of backlash for The Crown or Bridgerton, so why such disappointment in historic representation in this specific case?\\nReview_Url: /review/rw9450470/?ref_=tt_urv\\n\\nReview: This should have been called \"Napoleon and Josephine\" because, frankly, there\\'s too much of Josephine in it, and not nearly enough of the brilliance and personality of Bonaparte. The historical inaccuracies are manifold. I read that director Scott says that \"If you weren\\'t there then you can **** off\". Well I was not there, but the erroneous simplification of one of history\\'s greatest characters shows Scott wasn\\'t there either. The battle scenes are gaining accolades, but even they shouldn\\'t. Wrong and over simplified. If you are going to make a movie about Napoleon, his generalship should have taken centre-stage, not his domestic tussles with the Missus. A grand disappointment. An artilleryman, as Napoleon was, taking part in a cavalry charge? I don\\'t think so! Oh, how I wish Kubrick had carried through to make his version. I give this six stars, mostly for having the courage to take on such a mighty story. Too bad it fell far short of its subject matter.\\n\\nReview_Date: 24-Nov-23\\nAuthor: esyurt\\nRating: 8\\nReview_Title: Great balance of action and drama.\\nReview: The movie consists of a beautiful balance of drama and action. For those who like action you will not be disappointed the war scenes are amazing. I feel as though those giving low ratings are just salty because of the depiction of napoleon I\\'m not a historian but I would assume they tried to capture his personality as close to reality as they could and this may have offended the frenchies. The only thing negative I can say is that the timeline is excessively shortened in order to fit the movie time limit, it\\'s a shame these historic movies aren\\'t filmed over multiple movies to retain intricate detail.\\nReview_Url: /review/rw9450470/?ref_=tt_urv\\n\\nReview: Although not Shakespearean, nor is there much French tongue, this movie delivers a convincing portrayal of European aristocracy of the 1790s and early 1800s. Gorgeously fathomed costumes, grand architecture and brutal battle scenes where if you blink you might miss a startling effect. There is also some slomo battle sequences which are welcomed as well. Well paced movie for entertainment value. Its not a deep dive into the ins and outs of European politics of the late 18th century, but a well rounded portrayal of the reign of Napoleon. Like a greatest hits album of his reign. The famous battle of Waterloo is also portrayed, having the most on screen battalions in formation I can think of. More so than the battles in the Gettysburg movie. But not as many cannon. Gettysburg has an awesome cannonade sequence that is the best put to film yet. Like 2 minutes straight of cannon firing. I love it. But, yes, the battles in Napoleon deliver striking effects and large processions of', name='PublicReviews'),\n",
              "  AIMessage(content=\"Yes, there were comments about the historical accuracy of the Napoleon movie. The sentiment about the historical accuracy was mixed. Some reviewers criticized the film for its historical inaccuracies, stating that the film oversimplified the character of Napoleon and did not accurately depict his military genius. They also pointed out specific scenes, such as an artilleryman taking part in a cavalry charge, as being historically inaccurate. \\n\\nHowever, other reviewers seemed to be more forgiving of the historical inaccuracies, stating that the movie was a well-rounded portrayal of Napoleon's reign and that it delivered a convincing portrayal of European aristocracy of the 1790s and early 1800s. They also praised the film for its battle scenes and costumes. \\n\\nOverall, while some viewers were disappointed with the historical inaccuracies, others seemed to enjoy the film for its entertainment value and did not seem to be overly concerned with its historical accuracy.\")],\n",
              " 'output': \"Yes, there were comments about the historical accuracy of the Napoleon movie. The sentiment about the historical accuracy was mixed. Some reviewers criticized the film for its historical inaccuracies, stating that the film oversimplified the character of Napoleon and did not accurately depict his military genius. They also pointed out specific scenes, such as an artilleryman taking part in a cavalry charge, as being historically inaccurate. \\n\\nHowever, other reviewers seemed to be more forgiving of the historical inaccuracies, stating that the movie was a well-rounded portrayal of Napoleon's reign and that it delivered a convincing portrayal of European aristocracy of the 1790s and early 1800s. They also praised the film for its battle scenes and costumes. \\n\\nOverall, while some viewers were disappointed with the historical inaccuracies, others seemed to enjoy the film for its entertainment value and did not seem to be overly concerned with its historical accuracy.\",\n",
              " 'intermediate_steps': [(AgentActionMessageLog(tool='PublicReviews', tool_input={'query': 'historical accuracy of Napoleon movie'}, log=\"\\nInvoking: `PublicReviews` with `{'query': 'historical accuracy of Napoleon movie'}`\\n\\n\\n\", message_log=[AIMessage(content='', additional_kwargs={'function_call': {'arguments': '{\\n  \"query\": \"historical accuracy of Napoleon movie\"\\n}', 'name': 'PublicReviews'}}, response_metadata={'token_usage': {'completion_tokens': 20, 'prompt_tokens': 151, 'total_tokens': 171}, 'model_name': 'gpt-4', 'system_fingerprint': None, 'finish_reason': 'function_call', 'logprobs': None}, id='run-ded8c6d6-2dee-4bb5-a48c-9911a567d81f-0', usage_metadata={'input_tokens': 151, 'output_tokens': 20, 'total_tokens': 171})]),\n",
              "   'Review_Date: 11-Dec-23\\nAuthor: apereztenessa-1\\nRating: 7\\nReview_Title: Innovative in its way to depict a historic legend\\nReview: Napoleon has been a surprise hit, and how much ink has been spent on the film may be one reason for its success. Rarely in recent history has a film been so widely criticized for its historical inaccuracies. We didn\\'t hear that kind of backlash for The Crown or Bridgerton, so why such disappointment in historic representation in this specific case?\\nReview_Url: /review/rw9450470/?ref_=tt_urv\\n\\nReview: This should have been called \"Napoleon and Josephine\" because, frankly, there\\'s too much of Josephine in it, and not nearly enough of the brilliance and personality of Bonaparte. The historical inaccuracies are manifold. I read that director Scott says that \"If you weren\\'t there then you can **** off\". Well I was not there, but the erroneous simplification of one of history\\'s greatest characters shows Scott wasn\\'t there either. The battle scenes are gaining accolades, but even they shouldn\\'t. Wrong and over simplified. If you are going to make a movie about Napoleon, his generalship should have taken centre-stage, not his domestic tussles with the Missus. A grand disappointment. An artilleryman, as Napoleon was, taking part in a cavalry charge? I don\\'t think so! Oh, how I wish Kubrick had carried through to make his version. I give this six stars, mostly for having the courage to take on such a mighty story. Too bad it fell far short of its subject matter.\\n\\nReview_Date: 24-Nov-23\\nAuthor: esyurt\\nRating: 8\\nReview_Title: Great balance of action and drama.\\nReview: The movie consists of a beautiful balance of drama and action. For those who like action you will not be disappointed the war scenes are amazing. I feel as though those giving low ratings are just salty because of the depiction of napoleon I\\'m not a historian but I would assume they tried to capture his personality as close to reality as they could and this may have offended the frenchies. The only thing negative I can say is that the timeline is excessively shortened in order to fit the movie time limit, it\\'s a shame these historic movies aren\\'t filmed over multiple movies to retain intricate detail.\\nReview_Url: /review/rw9450470/?ref_=tt_urv\\n\\nReview: Although not Shakespearean, nor is there much French tongue, this movie delivers a convincing portrayal of European aristocracy of the 1790s and early 1800s. Gorgeously fathomed costumes, grand architecture and brutal battle scenes where if you blink you might miss a startling effect. There is also some slomo battle sequences which are welcomed as well. Well paced movie for entertainment value. Its not a deep dive into the ins and outs of European politics of the late 18th century, but a well rounded portrayal of the reign of Napoleon. Like a greatest hits album of his reign. The famous battle of Waterloo is also portrayed, having the most on screen battalions in formation I can think of. More so than the battles in the Gettysburg movie. But not as many cannon. Gettysburg has an awesome cannonade sequence that is the best put to film yet. Like 2 minutes straight of cannon firing. I love it. But, yes, the battles in Napoleon deliver striking effects and large processions of')]}"
            ]
          },
          "metadata": {},
          "execution_count": 59
        }
      ],
      "source": [
        "# Query Napoleon retriever\n",
        "napoleon_retriever_agent_executor({\"input\" : \"Were there comments about whether Napoleon was a historically accurate movie? If there were, what was the sentiment about the historical accuracy?\"})"
      ]
    },
    {
      "cell_type": "code",
      "execution_count": 60,
      "metadata": {
        "colab": {
          "base_uri": "https://localhost:8080/"
        },
        "id": "SeoR0SsmDuhU",
        "outputId": "28821417-fc84-4b34-a142-b7bae0d92db2"
      },
      "outputs": [
        {
          "output_type": "stream",
          "name": "stdout",
          "text": [
            "\n",
            "\n",
            "\u001b[1m> Entering new AgentExecutor chain...\u001b[0m\n",
            "\u001b[32;1m\u001b[1;3m\n",
            "Invoking: `Wikipedia` with `{'query': 'plot of Napoleon movie'}`\n",
            "\n",
            "\n",
            "\u001b[0m\u001b[36;1m\u001b[1;3mNapoleon is a 2023 epic historical drama film directed and co-produced by Ridley Scott and written by David Scarpa. Based on the story of Napoleon Bonaparte and primarily depicting his rise to power as well as his relationship with his wife, Joséphine Bonaparte, it stars Joaquin Phoenix as Napoleon and Vanessa Kirby as Joséphine.\n",
            "\n",
            "Joan Tumblety wrote that the movie ignored French atrocities such as those committed after the Siege of Jaffa.\u001b[0m\u001b[32;1m\u001b[1;3mThe Napoleon movie, directed by Ridley Scott and written by David Scarpa, is an epic historical drama film released in 2023. The film primarily depicts the rise to power of Napoleon Bonaparte and his relationship with his wife, Joséphine Bonaparte. The lead roles are played by Joaquin Phoenix as Napoleon and Vanessa Kirby as Joséphine. The movie has been criticized for ignoring certain historical events, such as the French atrocities committed after the Siege of Jaffa.\u001b[0m\n",
            "\n",
            "\u001b[1m> Finished chain.\u001b[0m\n"
          ]
        },
        {
          "output_type": "execute_result",
          "data": {
            "text/plain": [
              "{'input': 'What is a quick summary of the plot of the Napoleon  movie?',\n",
              " 'chat_history': [HumanMessage(content='Were there comments about whether Napoleon was a historically accurate movie? If there were, what was the sentiment about the historical accuracy?'),\n",
              "  AIMessage(content='', additional_kwargs={'function_call': {'arguments': '{\\n  \"query\": \"historical accuracy of Napoleon movie\"\\n}', 'name': 'PublicReviews'}}, response_metadata={'token_usage': {'completion_tokens': 20, 'prompt_tokens': 151, 'total_tokens': 171}, 'model_name': 'gpt-4', 'system_fingerprint': None, 'finish_reason': 'function_call', 'logprobs': None}, id='run-ded8c6d6-2dee-4bb5-a48c-9911a567d81f-0', usage_metadata={'input_tokens': 151, 'output_tokens': 20, 'total_tokens': 171}),\n",
              "  FunctionMessage(content='Review_Date: 11-Dec-23\\nAuthor: apereztenessa-1\\nRating: 7\\nReview_Title: Innovative in its way to depict a historic legend\\nReview: Napoleon has been a surprise hit, and how much ink has been spent on the film may be one reason for its success. Rarely in recent history has a film been so widely criticized for its historical inaccuracies. We didn\\'t hear that kind of backlash for The Crown or Bridgerton, so why such disappointment in historic representation in this specific case?\\nReview_Url: /review/rw9450470/?ref_=tt_urv\\n\\nReview: This should have been called \"Napoleon and Josephine\" because, frankly, there\\'s too much of Josephine in it, and not nearly enough of the brilliance and personality of Bonaparte. The historical inaccuracies are manifold. I read that director Scott says that \"If you weren\\'t there then you can **** off\". Well I was not there, but the erroneous simplification of one of history\\'s greatest characters shows Scott wasn\\'t there either. The battle scenes are gaining accolades, but even they shouldn\\'t. Wrong and over simplified. If you are going to make a movie about Napoleon, his generalship should have taken centre-stage, not his domestic tussles with the Missus. A grand disappointment. An artilleryman, as Napoleon was, taking part in a cavalry charge? I don\\'t think so! Oh, how I wish Kubrick had carried through to make his version. I give this six stars, mostly for having the courage to take on such a mighty story. Too bad it fell far short of its subject matter.\\n\\nReview_Date: 24-Nov-23\\nAuthor: esyurt\\nRating: 8\\nReview_Title: Great balance of action and drama.\\nReview: The movie consists of a beautiful balance of drama and action. For those who like action you will not be disappointed the war scenes are amazing. I feel as though those giving low ratings are just salty because of the depiction of napoleon I\\'m not a historian but I would assume they tried to capture his personality as close to reality as they could and this may have offended the frenchies. The only thing negative I can say is that the timeline is excessively shortened in order to fit the movie time limit, it\\'s a shame these historic movies aren\\'t filmed over multiple movies to retain intricate detail.\\nReview_Url: /review/rw9450470/?ref_=tt_urv\\n\\nReview: Although not Shakespearean, nor is there much French tongue, this movie delivers a convincing portrayal of European aristocracy of the 1790s and early 1800s. Gorgeously fathomed costumes, grand architecture and brutal battle scenes where if you blink you might miss a startling effect. There is also some slomo battle sequences which are welcomed as well. Well paced movie for entertainment value. Its not a deep dive into the ins and outs of European politics of the late 18th century, but a well rounded portrayal of the reign of Napoleon. Like a greatest hits album of his reign. The famous battle of Waterloo is also portrayed, having the most on screen battalions in formation I can think of. More so than the battles in the Gettysburg movie. But not as many cannon. Gettysburg has an awesome cannonade sequence that is the best put to film yet. Like 2 minutes straight of cannon firing. I love it. But, yes, the battles in Napoleon deliver striking effects and large processions of', name='PublicReviews'),\n",
              "  AIMessage(content=\"Yes, there were comments about the historical accuracy of the Napoleon movie. The sentiment about the historical accuracy was mixed. Some reviewers criticized the film for its historical inaccuracies, stating that the film oversimplified the character of Napoleon and did not accurately depict his military genius. They also pointed out specific scenes, such as an artilleryman taking part in a cavalry charge, as being historically inaccurate. \\n\\nHowever, other reviewers seemed to be more forgiving of the historical inaccuracies, stating that the movie was a well-rounded portrayal of Napoleon's reign and that it delivered a convincing portrayal of European aristocracy of the 1790s and early 1800s. They also praised the film for its battle scenes and costumes. \\n\\nOverall, while some viewers were disappointed with the historical inaccuracies, others seemed to enjoy the film for its entertainment value and did not seem to be overly concerned with its historical accuracy.\"),\n",
              "  HumanMessage(content='What is a quick summary of the plot of the Napoleon  movie?'),\n",
              "  AIMessage(content='', additional_kwargs={'function_call': {'arguments': '{\\n  \"query\": \"plot of Napoleon movie\"\\n}', 'name': 'Wikipedia'}}, response_metadata={'token_usage': {'completion_tokens': 18, 'prompt_tokens': 1104, 'total_tokens': 1122}, 'model_name': 'gpt-4', 'system_fingerprint': None, 'finish_reason': 'function_call', 'logprobs': None}, id='run-8086d446-5b20-4242-925c-c8557351eb3a-0', usage_metadata={'input_tokens': 1104, 'output_tokens': 18, 'total_tokens': 1122}),\n",
              "  FunctionMessage(content='Napoleon is a 2023 epic historical drama film directed and co-produced by Ridley Scott and written by David Scarpa. Based on the story of Napoleon Bonaparte and primarily depicting his rise to power as well as his relationship with his wife, Joséphine Bonaparte, it stars Joaquin Phoenix as Napoleon and Vanessa Kirby as Joséphine.\\n\\nJoan Tumblety wrote that the movie ignored French atrocities such as those committed after the Siege of Jaffa.', name='Wikipedia'),\n",
              "  AIMessage(content='The Napoleon movie, directed by Ridley Scott and written by David Scarpa, is an epic historical drama film released in 2023. The film primarily depicts the rise to power of Napoleon Bonaparte and his relationship with his wife, Joséphine Bonaparte. The lead roles are played by Joaquin Phoenix as Napoleon and Vanessa Kirby as Joséphine. The movie has been criticized for ignoring certain historical events, such as the French atrocities committed after the Siege of Jaffa.')],\n",
              " 'output': 'The Napoleon movie, directed by Ridley Scott and written by David Scarpa, is an epic historical drama film released in 2023. The film primarily depicts the rise to power of Napoleon Bonaparte and his relationship with his wife, Joséphine Bonaparte. The lead roles are played by Joaquin Phoenix as Napoleon and Vanessa Kirby as Joséphine. The movie has been criticized for ignoring certain historical events, such as the French atrocities committed after the Siege of Jaffa.',\n",
              " 'intermediate_steps': [(AgentActionMessageLog(tool='Wikipedia', tool_input={'query': 'plot of Napoleon movie'}, log=\"\\nInvoking: `Wikipedia` with `{'query': 'plot of Napoleon movie'}`\\n\\n\\n\", message_log=[AIMessage(content='', additional_kwargs={'function_call': {'arguments': '{\\n  \"query\": \"plot of Napoleon movie\"\\n}', 'name': 'Wikipedia'}}, response_metadata={'token_usage': {'completion_tokens': 18, 'prompt_tokens': 1104, 'total_tokens': 1122}, 'model_name': 'gpt-4', 'system_fingerprint': None, 'finish_reason': 'function_call', 'logprobs': None}, id='run-8086d446-5b20-4242-925c-c8557351eb3a-0', usage_metadata={'input_tokens': 1104, 'output_tokens': 18, 'total_tokens': 1122})]),\n",
              "   'Napoleon is a 2023 epic historical drama film directed and co-produced by Ridley Scott and written by David Scarpa. Based on the story of Napoleon Bonaparte and primarily depicting his rise to power as well as his relationship with his wife, Joséphine Bonaparte, it stars Joaquin Phoenix as Napoleon and Vanessa Kirby as Joséphine.\\n\\nJoan Tumblety wrote that the movie ignored French atrocities such as those committed after the Siege of Jaffa.')]}"
            ]
          },
          "metadata": {},
          "execution_count": 60
        }
      ],
      "source": [
        "# Query Napoleon retriever\n",
        "napoleon_retriever_agent_executor({\"input\" : \"What is a quick summary of the plot of the Napoleon  movie?\"})"
      ]
    },
    {
      "cell_type": "markdown",
      "metadata": {
        "id": "7Y-c7pCRDuhU"
      },
      "source": [
        "### Alexander Retrieval System\n",
        "\n",
        "Some of previously created code will be repurposed, also a different multi-source retrieval system will be built"
      ]
    },
    {
      "cell_type": "code",
      "execution_count": 61,
      "metadata": {
        "id": "OLZx-v4bDuhV"
      },
      "outputs": [],
      "source": [
        "# Define Alexander document loaders\n",
        "\n",
        "# Load wikipedia data\n",
        "alexander_wikipedia_docs = WikipediaLoader(query=\"Alexander (2004 film)\", load_max_docs=1, doc_content_chars_max=1_000_000).load()\n",
        "\n",
        "# Load csv data previously scrapped from IMDB reviews of the Alexander movie\n",
        "alexander_csv_docs = CSVLoader(file_path=\"./alexander.csv\", source_column=\"Review_Url\").load()"
      ]
    },
    {
      "cell_type": "code",
      "execution_count": 62,
      "metadata": {
        "id": "rh99U1TkDuhV"
      },
      "outputs": [],
      "source": [
        "# Perform text chunking\n",
        "chunked_alexander_wikipedia_docs = wikipedia_text_splitter.transform_documents(alexander_wikipedia_docs)\n",
        "chunked_alexander_csv_docs = csv_text_splitter.transform_documents(alexander_csv_docs)"
      ]
    },
    {
      "cell_type": "code",
      "execution_count": 63,
      "metadata": {
        "id": "bFhTJuzZDuhV"
      },
      "outputs": [],
      "source": [
        "# Define retrievers for Alexander\n",
        "alexander_csv_faiss_retriever = FAISS.from_documents(chunked_alexander_csv_docs, embedder).as_retriever()\n",
        "\n",
        "# Set up BM25 retriever\n",
        "alexander_wikipedia_bm25_retriever = BM25Retriever.from_documents(\n",
        "    chunked_alexander_wikipedia_docs\n",
        ")\n",
        "\n",
        "alexander_wikipedia_bm25_retriever.k = 1\n",
        "\n",
        "# Set up FAISS vector store\n",
        "alexander_wikipedia_faiss_store = FAISS.from_documents(\n",
        "    chunked_alexander_wikipedia_docs, embedder\n",
        ")\n",
        "\n",
        "# Set up Alexander retriever\n",
        "alexander_wikipedia_faiss_retriever = alexander_wikipedia_faiss_store.as_retriever(search_kwargs={\"k\": 1})\n",
        "\n",
        "# Set up ensemble retriever\n",
        "alexander_ensemble_retriever = EnsembleRetriever(\n",
        "    retrievers=[alexander_wikipedia_bm25_retriever, alexander_wikipedia_faiss_retriever],\n",
        "    weights=[0.25, 0.75]\n",
        ")"
      ]
    },
    {
      "cell_type": "markdown",
      "metadata": {
        "id": "qlhyJdkmDuhV"
      },
      "source": [
        "#### Multi-source chain\n",
        "\n",
        "The LLM will be used to determine which information is most -> least valuable."
      ]
    },
    {
      "cell_type": "code",
      "execution_count": 64,
      "metadata": {
        "id": "_-w9VixiDuhV"
      },
      "outputs": [],
      "source": [
        "# from langchain.prompts import ChatPromptTemplate\n",
        "\n",
        "system_message = \"\"\"Use the information from the below two sources to answer any questions.\n",
        "\n",
        "Source 1: public user reviews about the Alexander movie\n",
        "<source1>\n",
        "{source1}\n",
        "</source1>\n",
        "\n",
        "Source 2: the wikipedia page for the Alexander movie including the plot summary, cast, and production information\n",
        "<source2>\n",
        "{source2}\n",
        "</source2>\n",
        "\"\"\"\n",
        "\n",
        "prompt = ChatPromptTemplate.from_messages([(\"system\", system_message), (\"human\", \"{question}\")])"
      ]
    },
    {
      "cell_type": "code",
      "execution_count": 65,
      "metadata": {
        "id": "U9LWVCxfDuhV"
      },
      "outputs": [],
      "source": [
        "alexander_multisource_chain = {\n",
        "    \"source1\": (lambda x: x[\"question\"]) | alexander_ensemble_retriever,\n",
        "    \"source2\": (lambda x: x[\"question\"]) | alexander_csv_faiss_retriever,\n",
        "    \"question\": lambda x: x[\"question\"],\n",
        "} | prompt | llm"
      ]
    },
    {
      "cell_type": "code",
      "execution_count": 66,
      "metadata": {
        "colab": {
          "base_uri": "https://localhost:8080/"
        },
        "id": "P4_LYlCNDuhV",
        "outputId": "37f837dd-1617-4550-9f52-559b3bee520b"
      },
      "outputs": [
        {
          "output_type": "execute_result",
          "data": {
            "text/plain": [
              "AIMessage(content=\"The reviews for the Alexander movie were mixed. Some viewers appreciated the film for its historical content and portrayal of Alexander the Great's life. They praised the acting, particularly Colin Farrell's performance as Alexander, and the ambitious scope of the film. They also enjoyed the battle sequences and the film's attention to historical detail.\\n\\nHowever, there were also several criticisms. Some viewers felt that the film was too long and had pacing issues. They also thought that the narrative was meandering and lacked focus. Some critics, including Roger Ebert, felt that the film resembled a history documentary more than an action-drama film. The casting choices were also seen as a mix of hits and misses. The film was also criticized for its historical accuracy. Overall, while some viewers found the film to be a worthwhile watch, others felt that it had significant weaknesses.\", response_metadata={'token_usage': {'completion_tokens': 168, 'prompt_tokens': 1749, 'total_tokens': 1917}, 'model_name': 'gpt-4', 'system_fingerprint': None, 'finish_reason': 'stop', 'logprobs': None}, id='run-ffbf8dca-dd2c-4337-8b4e-cb18af8418d6-0', usage_metadata={'input_tokens': 1749, 'output_tokens': 168, 'total_tokens': 1917})"
            ]
          },
          "metadata": {},
          "execution_count": 66
        }
      ],
      "source": [
        "alexander_multisource_chain.invoke({\"question\" : \"What did people think of the Alexander movie?\"})"
      ]
    },
    {
      "cell_type": "markdown",
      "metadata": {
        "id": "NFmAZumQDuhV"
      },
      "source": [
        "# Agent Creation\n",
        "\n",
        "The Agent will be provided a Toolbelt (list of tools).\n",
        "\n",
        "A function will be set for tools to interface with the Agent."
      ]
    },
    {
      "cell_type": "code",
      "execution_count": 67,
      "metadata": {
        "id": "btkdszG6DuhV"
      },
      "outputs": [],
      "source": [
        "# Define query\n",
        "def query_alexander(input):\n",
        "    return alexander_multisource_chain.invoke({\"question\" : input})\n",
        "\n",
        "tools = [\n",
        "    Tool(\n",
        "        name = \"napoleoninfo\",\n",
        "        func = napoleon_retriever_agent_executor.invoke,\n",
        "        description = \"Useful for when you need to answer questions about Napoleon. Input should be a fully formed question.\"\n",
        "    ),\n",
        "\n",
        "    Tool(\n",
        "        name = \"alexanderinfo\",\n",
        "        func = query_alexander,\n",
        "        description = \"useful for when you need to answer questions about Alexander. Input should be a fully formed question.\"\n",
        "    ),\n",
        "]"
      ]
    },
    {
      "cell_type": "markdown",
      "metadata": {
        "id": "jgeiBa2oDuhV"
      },
      "source": [
        "### Perform Zero Shot Query"
      ]
    },
    {
      "cell_type": "code",
      "execution_count": 68,
      "metadata": {
        "id": "K1rzKDxUDuhV"
      },
      "outputs": [],
      "source": [
        "# Configure prompt\n",
        "\n",
        "prefix = \"\"\"Have a conversation with a human, answering the following questions as best you can. You have access to the following tools:\"\"\"\n",
        "suffix = \"\"\"Begin!\"\n",
        "\n",
        "Question: {input}\n",
        "{agent_scratchpad}\"\"\"\n",
        "\n",
        "prompt = ZeroShotAgent.create_prompt(\n",
        "     tools,\n",
        "    prefix=prefix,\n",
        "    suffix=suffix,\n",
        "    input_variables=[\"input\", \"agent_scratchpad\"]\n",
        ")"
      ]
    },
    {
      "cell_type": "code",
      "execution_count": 69,
      "metadata": {
        "id": "XuZl3G6kDuhW"
      },
      "outputs": [],
      "source": [
        "from langchain.chains import LLMChain\n",
        "llm_chain = LLMChain(llm=llm, prompt=prompt)"
      ]
    },
    {
      "cell_type": "code",
      "execution_count": 70,
      "metadata": {
        "id": "L2Jixlz9fk7i"
      },
      "outputs": [],
      "source": [
        "napoleonalexander_agent = ZeroShotAgent(llm_chain=llm_chain, tools=tools, verbose=True)"
      ]
    },
    {
      "cell_type": "code",
      "execution_count": 71,
      "metadata": {
        "id": "x5PTruqnf_6R"
      },
      "outputs": [],
      "source": [
        "napoleonalexander_agent_chain = AgentExecutor.from_agent_and_tools(agent=napoleonalexander_agent, tools=tools,verbose=True)\n"
      ]
    },
    {
      "cell_type": "markdown",
      "metadata": {
        "id": "JLIbBLpZDuhW"
      },
      "source": [
        "## Conclusion\n",
        "\n",
        "Feed inputs to the Agent and review the outputs."
      ]
    },
    {
      "cell_type": "code",
      "execution_count": 72,
      "metadata": {
        "colab": {
          "base_uri": "https://localhost:8080/"
        },
        "id": "puKllz31DuhW",
        "outputId": "821f7d81-5d28-499d-c87d-805a8ac29251"
      },
      "outputs": [
        {
          "output_type": "stream",
          "name": "stdout",
          "text": [
            "\n",
            "\n",
            "\u001b[1m> Entering new AgentExecutor chain...\u001b[0m\n",
            "\u001b[32;1m\u001b[1;3mThought: This question is about Napoleon, so I should use the napoleoninfo tool.\n",
            "Action: napoleoninfo\n",
            "Action Input: {\"input\": \"What do people today think about Napoleon?\"}\u001b[0m\n",
            "\n",
            "\u001b[1m> Entering new AgentExecutor chain...\u001b[0m\n",
            "\u001b[32;1m\u001b[1;3m\n",
            "Invoking: `PublicReviews` with `{'query': 'public opinion on Napoleon movie'}`\n",
            "\n",
            "\n",
            "\u001b[0m\u001b[33;1m\u001b[1;3mReview_Date: 9-Dec-23\n",
            "Author: adambarta\n",
            "Rating: 6\n",
            "Review_Title: Hollywood overtaking over quality\n",
            "Review: Once I found out that there will be a movie about Napoleon starring Joaquin Phoenix, I got excited. What a great idea? It's one of the most interesting people in history, of course this would make a great movie.\n",
            "Review_Url: /review/rw9450470/?ref_=tt_urv\n",
            "\n",
            "Review_Date: 26-Nov-23\n",
            "Author: krzysiektom\n",
            "Rating: 2\n",
            "Review_Title: Awful.\n",
            "Review: What a disappointment. This film is BORING. A movie with a huge budget, good actors, about a person as fascinating and complex as Bonaparte, who participated in more than 60 battles and had drama, triumphs and failures that would be enough for a few lifetimes, is... BORING! Nothing is well explained, it's unclear who is who beside Napoleon and Josephine. Several unnecessary sex scenes between the two. What's even worse is that it's unclear why the French nation would follow and worship this Napoleon as he's portrayed in this movie, because in this movie he seems a mediocre personality, without much charisma or extraordinary abilities. In addition, everything on the screen looks greyish blue, without vivid colors, and it is a bit depressing. I liked only two elements of this movie: musical score and costumes.\n",
            "Review_Url: /review/rw9450470/?ref_=tt_urv\n",
            "\n",
            "Review: \"Napoleon\" leaves you completely indifferent and emotionally cold. In my opinion, this is the disappointment of the movie year so far. Phoenix is tragically underchallenged and grunts unmotivatedly through the \"plot\" when he's not ramming Josephine like a billy goat or sleeping standing up (I fear that this excellent actor's eyes had actually closed in the face of this direction). Sure, very beautiful images and sceneries, beautiful costumes, you can feel the huge amount of money there. But imho the whole movie is just like a series of expensive reenactments for a embarassingly sloppy researched documentary, only without a documentary in between. There is not a single truly credible interaction between the characters, the \"love story\" between Josephine and Napoleon is completely superficial (not to mention the incomprehensible idea of making the actress playing Josephine appear much younger than Napoleon, while in historical reality she was over 10 years older). Basically,\n",
            "\n",
            "Review_Date: 22-Nov-23\n",
            "Author: WadoodS\n",
            "Rating: 5\n",
            "Review_Title: Napoleon Deserved Better\n",
            "Review: Making a movie on a charismatic person like Napoleon is a huge undertaking. It requires in-depth study of his life and then choosing specific events of his life to show and connecting them to perfection. The film maker is short in time therefore it is important for the movie to be precise, fluent and with a purpose. In this movie, the director, Ridley Scott, fails to determine which points of his life he wishes to portray and consequently it results in a piece-by-piece movie which lacks cinematic flow and confuses the audience.\n",
            "Review_Url: /review/rw9450470/?ref_=tt_urv\u001b[0m\u001b[32;1m\u001b[1;3mPublic opinion on the Napoleon movie is mixed. Some viewers were excited about the idea of a movie about Napoleon, especially with Joaquin Phoenix in the lead role. They found Napoleon to be one of the most interesting figures in history and were looking forward to seeing his story on the big screen.\n",
            "\n",
            "However, many viewers were disappointed with the film. They found it boring and felt that it did not do justice to the fascinating and complex character of Napoleon. They criticized the film for not explaining things well, for having unnecessary sex scenes, and for not making it clear why the French nation would follow and worship Napoleon as he was portrayed in the movie. They also felt that the movie was visually depressing, with a greyish-blue color palette.\n",
            "\n",
            "Some viewers also felt that the movie did not have a clear focus and lacked cinematic flow, resulting in a confusing viewing experience. They felt that making a movie about a charismatic person like Napoleon required an in-depth study of his life and a careful selection of specific events to portray, and they felt that the director, Ridley Scott, failed to do this.\n",
            "\n",
            "Despite these criticisms, some viewers did appreciate certain elements of the movie, such as the musical score and costumes.\u001b[0m\n",
            "\n",
            "\u001b[1m> Finished chain.\u001b[0m\n",
            "\n",
            "Observation: \u001b[36;1m\u001b[1;3m{'input': '{\"input\": \"What do people today think about Napoleon?\"}', 'chat_history': [AIMessage(content=\"Yes, there were comments about the historical accuracy of the Napoleon movie. The sentiment about the historical accuracy was mixed. Some reviewers criticized the film for its historical inaccuracies, stating that the film oversimplified the character of Napoleon and did not accurately depict his military genius. They also pointed out specific scenes, such as an artilleryman taking part in a cavalry charge, as being historically inaccurate. \\n\\nHowever, other reviewers seemed to be more forgiving of the historical inaccuracies, stating that the movie was a well-rounded portrayal of Napoleon's reign and that it delivered a convincing portrayal of European aristocracy of the 1790s and early 1800s. They also praised the film for its battle scenes and costumes. \\n\\nOverall, while some viewers were disappointed with the historical inaccuracies, others seemed to enjoy the film for its entertainment value and did not seem to be overly concerned with its historical accuracy.\"), HumanMessage(content='What is a quick summary of the plot of the Napoleon  movie?'), AIMessage(content='', additional_kwargs={'function_call': {'arguments': '{\\n  \"query\": \"plot of Napoleon movie\"\\n}', 'name': 'Wikipedia'}}, response_metadata={'token_usage': {'completion_tokens': 18, 'prompt_tokens': 1104, 'total_tokens': 1122}, 'model_name': 'gpt-4', 'system_fingerprint': None, 'finish_reason': 'function_call', 'logprobs': None}, id='run-8086d446-5b20-4242-925c-c8557351eb3a-0', usage_metadata={'input_tokens': 1104, 'output_tokens': 18, 'total_tokens': 1122}), FunctionMessage(content='Napoleon is a 2023 epic historical drama film directed and co-produced by Ridley Scott and written by David Scarpa. Based on the story of Napoleon Bonaparte and primarily depicting his rise to power as well as his relationship with his wife, Joséphine Bonaparte, it stars Joaquin Phoenix as Napoleon and Vanessa Kirby as Joséphine.\\n\\nJoan Tumblety wrote that the movie ignored French atrocities such as those committed after the Siege of Jaffa.', name='Wikipedia'), AIMessage(content='The Napoleon movie, directed by Ridley Scott and written by David Scarpa, is an epic historical drama film released in 2023. The film primarily depicts the rise to power of Napoleon Bonaparte and his relationship with his wife, Joséphine Bonaparte. The lead roles are played by Joaquin Phoenix as Napoleon and Vanessa Kirby as Joséphine. The movie has been criticized for ignoring certain historical events, such as the French atrocities committed after the Siege of Jaffa.'), HumanMessage(content='{\"input\": \"What do people today think about Napoleon?\"}'), AIMessage(content='', additional_kwargs={'function_call': {'arguments': '{\\n  \"query\": \"public opinion on Napoleon movie\"\\n}', 'name': 'PublicReviews'}}, response_metadata={'token_usage': {'completion_tokens': 19, 'prompt_tokens': 1348, 'total_tokens': 1367}, 'model_name': 'gpt-4', 'system_fingerprint': None, 'finish_reason': 'function_call', 'logprobs': None}, id='run-533aa1db-6922-4458-bf11-c0b009636ef2-0', usage_metadata={'input_tokens': 1348, 'output_tokens': 19, 'total_tokens': 1367}), FunctionMessage(content='Review_Date: 9-Dec-23\\nAuthor: adambarta\\nRating: 6\\nReview_Title: Hollywood overtaking over quality\\nReview: Once I found out that there will be a movie about Napoleon starring Joaquin Phoenix, I got excited. What a great idea? It\\'s one of the most interesting people in history, of course this would make a great movie.\\nReview_Url: /review/rw9450470/?ref_=tt_urv\\n\\nReview_Date: 26-Nov-23\\nAuthor: krzysiektom\\nRating: 2\\nReview_Title: Awful.\\nReview: What a disappointment. This film is BORING. A movie with a huge budget, good actors, about a person as fascinating and complex as Bonaparte, who participated in more than 60 battles and had drama, triumphs and failures that would be enough for a few lifetimes, is... BORING! Nothing is well explained, it\\'s unclear who is who beside Napoleon and Josephine. Several unnecessary sex scenes between the two. What\\'s even worse is that it\\'s unclear why the French nation would follow and worship this Napoleon as he\\'s portrayed in this movie, because in this movie he seems a mediocre personality, without much charisma or extraordinary abilities. In addition, everything on the screen looks greyish blue, without vivid colors, and it is a bit depressing. I liked only two elements of this movie: musical score and costumes.\\nReview_Url: /review/rw9450470/?ref_=tt_urv\\n\\nReview: \"Napoleon\" leaves you completely indifferent and emotionally cold. In my opinion, this is the disappointment of the movie year so far. Phoenix is tragically underchallenged and grunts unmotivatedly through the \"plot\" when he\\'s not ramming Josephine like a billy goat or sleeping standing up (I fear that this excellent actor\\'s eyes had actually closed in the face of this direction). Sure, very beautiful images and sceneries, beautiful costumes, you can feel the huge amount of money there. But imho the whole movie is just like a series of expensive reenactments for a embarassingly sloppy researched documentary, only without a documentary in between. There is not a single truly credible interaction between the characters, the \"love story\" between Josephine and Napoleon is completely superficial (not to mention the incomprehensible idea of making the actress playing Josephine appear much younger than Napoleon, while in historical reality she was over 10 years older). Basically,\\n\\nReview_Date: 22-Nov-23\\nAuthor: WadoodS\\nRating: 5\\nReview_Title: Napoleon Deserved Better\\nReview: Making a movie on a charismatic person like Napoleon is a huge undertaking. It requires in-depth study of his life and then choosing specific events of his life to show and connecting them to perfection. The film maker is short in time therefore it is important for the movie to be precise, fluent and with a purpose. In this movie, the director, Ridley Scott, fails to determine which points of his life he wishes to portray and consequently it results in a piece-by-piece movie which lacks cinematic flow and confuses the audience.\\nReview_Url: /review/rw9450470/?ref_=tt_urv', name='PublicReviews'), AIMessage(content='Public opinion on the Napoleon movie is mixed. Some viewers were excited about the idea of a movie about Napoleon, especially with Joaquin Phoenix in the lead role. They found Napoleon to be one of the most interesting figures in history and were looking forward to seeing his story on the big screen.\\n\\nHowever, many viewers were disappointed with the film. They found it boring and felt that it did not do justice to the fascinating and complex character of Napoleon. They criticized the film for not explaining things well, for having unnecessary sex scenes, and for not making it clear why the French nation would follow and worship Napoleon as he was portrayed in the movie. They also felt that the movie was visually depressing, with a greyish-blue color palette.\\n\\nSome viewers also felt that the movie did not have a clear focus and lacked cinematic flow, resulting in a confusing viewing experience. They felt that making a movie about a charismatic person like Napoleon required an in-depth study of his life and a careful selection of specific events to portray, and they felt that the director, Ridley Scott, failed to do this.\\n\\nDespite these criticisms, some viewers did appreciate certain elements of the movie, such as the musical score and costumes.')], 'output': 'Public opinion on the Napoleon movie is mixed. Some viewers were excited about the idea of a movie about Napoleon, especially with Joaquin Phoenix in the lead role. They found Napoleon to be one of the most interesting figures in history and were looking forward to seeing his story on the big screen.\\n\\nHowever, many viewers were disappointed with the film. They found it boring and felt that it did not do justice to the fascinating and complex character of Napoleon. They criticized the film for not explaining things well, for having unnecessary sex scenes, and for not making it clear why the French nation would follow and worship Napoleon as he was portrayed in the movie. They also felt that the movie was visually depressing, with a greyish-blue color palette.\\n\\nSome viewers also felt that the movie did not have a clear focus and lacked cinematic flow, resulting in a confusing viewing experience. They felt that making a movie about a charismatic person like Napoleon required an in-depth study of his life and a careful selection of specific events to portray, and they felt that the director, Ridley Scott, failed to do this.\\n\\nDespite these criticisms, some viewers did appreciate certain elements of the movie, such as the musical score and costumes.', 'intermediate_steps': [(AgentActionMessageLog(tool='PublicReviews', tool_input={'query': 'public opinion on Napoleon movie'}, log=\"\\nInvoking: `PublicReviews` with `{'query': 'public opinion on Napoleon movie'}`\\n\\n\\n\", message_log=[AIMessage(content='', additional_kwargs={'function_call': {'arguments': '{\\n  \"query\": \"public opinion on Napoleon movie\"\\n}', 'name': 'PublicReviews'}}, response_metadata={'token_usage': {'completion_tokens': 19, 'prompt_tokens': 1348, 'total_tokens': 1367}, 'model_name': 'gpt-4', 'system_fingerprint': None, 'finish_reason': 'function_call', 'logprobs': None}, id='run-533aa1db-6922-4458-bf11-c0b009636ef2-0', usage_metadata={'input_tokens': 1348, 'output_tokens': 19, 'total_tokens': 1367})]), 'Review_Date: 9-Dec-23\\nAuthor: adambarta\\nRating: 6\\nReview_Title: Hollywood overtaking over quality\\nReview: Once I found out that there will be a movie about Napoleon starring Joaquin Phoenix, I got excited. What a great idea? It\\'s one of the most interesting people in history, of course this would make a great movie.\\nReview_Url: /review/rw9450470/?ref_=tt_urv\\n\\nReview_Date: 26-Nov-23\\nAuthor: krzysiektom\\nRating: 2\\nReview_Title: Awful.\\nReview: What a disappointment. This film is BORING. A movie with a huge budget, good actors, about a person as fascinating and complex as Bonaparte, who participated in more than 60 battles and had drama, triumphs and failures that would be enough for a few lifetimes, is... BORING! Nothing is well explained, it\\'s unclear who is who beside Napoleon and Josephine. Several unnecessary sex scenes between the two. What\\'s even worse is that it\\'s unclear why the French nation would follow and worship this Napoleon as he\\'s portrayed in this movie, because in this movie he seems a mediocre personality, without much charisma or extraordinary abilities. In addition, everything on the screen looks greyish blue, without vivid colors, and it is a bit depressing. I liked only two elements of this movie: musical score and costumes.\\nReview_Url: /review/rw9450470/?ref_=tt_urv\\n\\nReview: \"Napoleon\" leaves you completely indifferent and emotionally cold. In my opinion, this is the disappointment of the movie year so far. Phoenix is tragically underchallenged and grunts unmotivatedly through the \"plot\" when he\\'s not ramming Josephine like a billy goat or sleeping standing up (I fear that this excellent actor\\'s eyes had actually closed in the face of this direction). Sure, very beautiful images and sceneries, beautiful costumes, you can feel the huge amount of money there. But imho the whole movie is just like a series of expensive reenactments for a embarassingly sloppy researched documentary, only without a documentary in between. There is not a single truly credible interaction between the characters, the \"love story\" between Josephine and Napoleon is completely superficial (not to mention the incomprehensible idea of making the actress playing Josephine appear much younger than Napoleon, while in historical reality she was over 10 years older). Basically,\\n\\nReview_Date: 22-Nov-23\\nAuthor: WadoodS\\nRating: 5\\nReview_Title: Napoleon Deserved Better\\nReview: Making a movie on a charismatic person like Napoleon is a huge undertaking. It requires in-depth study of his life and then choosing specific events of his life to show and connecting them to perfection. The film maker is short in time therefore it is important for the movie to be precise, fluent and with a purpose. In this movie, the director, Ridley Scott, fails to determine which points of his life he wishes to portray and consequently it results in a piece-by-piece movie which lacks cinematic flow and confuses the audience.\\nReview_Url: /review/rw9450470/?ref_=tt_urv')]}\u001b[0m\n",
            "Thought:\u001b[32;1m\u001b[1;3mI now know the final answer.\n",
            "Final Answer: Public opinion on the Napoleon movie is mixed. Some viewers were excited about the idea of a movie about Napoleon, especially with Joaquin Phoenix in the lead role. They found Napoleon to be one of the most interesting figures in history and were looking forward to seeing his story on the big screen.\n",
            "\n",
            "However, many viewers were disappointed with the film. They found it boring and felt that it did not do justice to the fascinating and complex character of Napoleon. They criticized the film for not explaining things well, for having unnecessary sex scenes, and for not making it clear why the French nation would follow and worship Napoleon as he was portrayed in the movie. They also felt that the movie was visually depressing, with a greyish-blue color palette.\n",
            "\n",
            "Some viewers also felt that the movie did not have a clear focus and lacked cinematic flow, resulting in a confusing viewing experience. They felt that making a movie about a charismatic person like Napoleon required an in-depth study of his life and a careful selection of specific events to portray, and they felt that the director, Ridley Scott, failed to do this.\n",
            "\n",
            "Despite these criticisms, some viewers did appreciate certain elements of the movie, such as the musical score and costumes.\u001b[0m\n",
            "\n",
            "\u001b[1m> Finished chain.\u001b[0m\n"
          ]
        },
        {
          "output_type": "execute_result",
          "data": {
            "text/plain": [
              "{'input': 'What do people today think about Napoleon?',\n",
              " 'output': 'Public opinion on the Napoleon movie is mixed. Some viewers were excited about the idea of a movie about Napoleon, especially with Joaquin Phoenix in the lead role. They found Napoleon to be one of the most interesting figures in history and were looking forward to seeing his story on the big screen.\\n\\nHowever, many viewers were disappointed with the film. They found it boring and felt that it did not do justice to the fascinating and complex character of Napoleon. They criticized the film for not explaining things well, for having unnecessary sex scenes, and for not making it clear why the French nation would follow and worship Napoleon as he was portrayed in the movie. They also felt that the movie was visually depressing, with a greyish-blue color palette.\\n\\nSome viewers also felt that the movie did not have a clear focus and lacked cinematic flow, resulting in a confusing viewing experience. They felt that making a movie about a charismatic person like Napoleon required an in-depth study of his life and a careful selection of specific events to portray, and they felt that the director, Ridley Scott, failed to do this.\\n\\nDespite these criticisms, some viewers did appreciate certain elements of the movie, such as the musical score and costumes.'}"
            ]
          },
          "metadata": {},
          "execution_count": 72
        }
      ],
      "source": [
        "napoleonalexander_agent_chain.invoke({\"input\" : \"What do people today think about Napoleon?\"})"
      ]
    },
    {
      "cell_type": "code",
      "execution_count": 73,
      "metadata": {
        "colab": {
          "base_uri": "https://localhost:8080/"
        },
        "id": "x0JgcRYkDuhW",
        "outputId": "201e0a9c-e1af-48c3-aa93-43bfeae0cfc5"
      },
      "outputs": [
        {
          "output_type": "stream",
          "name": "stdout",
          "text": [
            "\n",
            "\n",
            "\u001b[1m> Entering new AgentExecutor chain...\u001b[0m\n",
            "\u001b[32;1m\u001b[1;3mThought: The question is about Alexander, so I should use the alexanderinfo tool.\n",
            "Action: alexanderinfo\n",
            "Action Input: What do people today think about Alexander?\u001b[0m\n",
            "Observation: \u001b[33;1m\u001b[1;3mcontent='The reviews for the movie \"Alexander\" are mixed. On Rotten Tomatoes, the film holds an approval rating of 16% based on 206 reviews, with an average rating of 4.00/10. The website\\'s critical consensus states that the film is ponderous, talky, and emotionally distant. On Metacritic, the film has a weighted average score of 40 out of 100, based on 42 critics, indicating \"mixed or average reviews\". Audiences polled by CinemaScore gave the film an average grade of \"D+\" on an A+ to F scale. Some user reviews praise the film for its historical accuracy and performances, particularly those of Angelina Jolie and Colin Farrell, while others criticize it for being too long and flawed across many aspects.' response_metadata={'token_usage': {'completion_tokens': 160, 'prompt_tokens': 1451, 'total_tokens': 1611}, 'model_name': 'gpt-4', 'system_fingerprint': None, 'finish_reason': 'stop', 'logprobs': None} id='run-c4c34d1c-e681-43cc-8271-55fd4c80ad22-0' usage_metadata={'input_tokens': 1451, 'output_tokens': 160, 'total_tokens': 1611}\u001b[0m\n",
            "Thought:\u001b[32;1m\u001b[1;3mThe information provided is about the movie \"Alexander\" and not about the historical figure Alexander. I need to clarify the question to the tool.\n",
            "Action: alexanderinfo\n",
            "Action Input: What is the general public opinion about the historical figure Alexander?\u001b[0m\n",
            "Observation: \u001b[33;1m\u001b[1;3mcontent='The sources do not provide information on the general public opinion about the historical figure Alexander.' response_metadata={'token_usage': {'completion_tokens': 17, 'prompt_tokens': 1542, 'total_tokens': 1559}, 'model_name': 'gpt-4', 'system_fingerprint': None, 'finish_reason': 'stop', 'logprobs': None} id='run-59afe225-fc6b-4f32-817c-e85e89565e18-0' usage_metadata={'input_tokens': 1542, 'output_tokens': 17, 'total_tokens': 1559}\u001b[0m\n",
            "Thought:\u001b[32;1m\u001b[1;3mThe tool does not have information on the general public opinion about the historical figure Alexander. I will have to answer based on general knowledge.\n",
            "Final Answer: The general public opinion about Alexander the Great is often positive. He is widely regarded as one of the greatest military tacticians and strategists in history, and he is often celebrated for his tactical skills and his significant impact on spreading Greek culture and civilization across a vast empire. However, some people criticize him for his methods and the destruction caused during his conquests. Please note that public opinion can vary greatly depending on cultural, historical, and personal perspectives.\u001b[0m\n",
            "\n",
            "\u001b[1m> Finished chain.\u001b[0m\n"
          ]
        },
        {
          "output_type": "execute_result",
          "data": {
            "text/plain": [
              "{'input': 'What do people today think about Alexander?',\n",
              " 'output': 'The general public opinion about Alexander the Great is often positive. He is widely regarded as one of the greatest military tacticians and strategists in history, and he is often celebrated for his tactical skills and his significant impact on spreading Greek culture and civilization across a vast empire. However, some people criticize him for his methods and the destruction caused during his conquests. Please note that public opinion can vary greatly depending on cultural, historical, and personal perspectives.'}"
            ]
          },
          "metadata": {},
          "execution_count": 73
        }
      ],
      "source": [
        "napoleonalexander_agent_chain.invoke({\"input\" : \"What do people today think about Alexander?\"})"
      ]
    },
    {
      "cell_type": "code",
      "execution_count": 74,
      "metadata": {
        "colab": {
          "base_uri": "https://localhost:8080/"
        },
        "id": "rh7_kU3DDuha",
        "outputId": "0655bbcd-6000-407b-8a46-df2e47b473b5"
      },
      "outputs": [
        {
          "output_type": "stream",
          "name": "stdout",
          "text": [
            "\n",
            "\n",
            "\u001b[1m> Entering new AgentExecutor chain...\u001b[0m\n",
            "\u001b[32;1m\u001b[1;3mThought: This question is asking about the themes or ideas in the movies Napoleon and Alexander. I don't have direct information about the movies, but I can provide information about Napoleon and Alexander themselves, which might help infer the themes of the movies. \n",
            "\n",
            "Action: napoleoninfo\n",
            "Action Input: What are some key themes or ideas associated with Napoleon?\n",
            "\u001b[0m\n",
            "\n",
            "\u001b[1m> Entering new AgentExecutor chain...\u001b[0m\n",
            "\u001b[32;1m\u001b[1;3m\n",
            "Invoking: `Wikipedia` with `{'query': 'themes and ideas associated with Napoleon Bonaparte'}`\n",
            "\n",
            "\n",
            "\u001b[0m\u001b[36;1m\u001b[1;3mNapoleon was known for his passion for literature and Enlightenment thought – a far cry from the boorish, loutish soldier that Scott depicts. French historian Patrice Gueniffey called the movie \"anti-French\" and full of historical inaccuracies, while fellow historian Romain Marsily found the portrayal of Napoleon \"lackluster\" and “mediocre” while disregarding Napoleon's positive legacies such as the Napoleonic Code. Spanish historian Francisco Gracia Alonso called the film \"a crime\". Historian\n",
            "\n",
            "Napoleon is a 2023 epic historical drama film directed and co-produced by Ridley Scott and written by David Scarpa. Based on the story of Napoleon Bonaparte and primarily depicting his rise to power as well as his relationship with his wife, Joséphine Bonaparte, it stars Joaquin Phoenix as Napoleon and Vanessa Kirby as Joséphine.\u001b[0m\u001b[32;1m\u001b[1;3mNapoleon Bonaparte is associated with several key themes and ideas:\n",
            "\n",
            "1. **Enlightenment Thought**: Napoleon was known for his passion for literature and Enlightenment thought. He was a proponent of the principles of the French Revolution, including liberty, equality, and fraternity.\n",
            "\n",
            "2. **Rise to Power**: Napoleon's rise to power from a relatively obscure background to becoming the ruler of France is a significant theme associated with him. His military genius, political acumen, and charismatic leadership played a crucial role in his ascent.\n",
            "\n",
            "3. **Napoleonic Code**: One of Napoleon's most lasting legacies is the Napoleonic Code, a legal code that forms the basis of many civil law systems around the world today. It introduced various reforms, including the equality of all citizens before the law, the right to choose one's profession, and the separation of church and state.\n",
            "\n",
            "4. **Relationship with Joséphine**: Napoleon's relationship with his wife, Joséphine, is another key theme associated with him. Their relationship was complex and marked by both intense love and tumultuous conflicts.\n",
            "\n",
            "However, it's important to note that these themes and ideas have been subject to various interpretations and debates among historians. Some have criticized portrayals of Napoleon, such as in the 2023 film directed by Ridley Scott, for being historically inaccurate and for not adequately reflecting Napoleon's positive legacies.\u001b[0m\n",
            "\n",
            "\u001b[1m> Finished chain.\u001b[0m\n",
            "\n",
            "Observation: \u001b[36;1m\u001b[1;3m{'input': 'What are some key themes or ideas associated with Napoleon?\\n', 'chat_history': [AIMessage(content=\"Yes, there were comments about the historical accuracy of the Napoleon movie. The sentiment about the historical accuracy was mixed. Some reviewers criticized the film for its historical inaccuracies, stating that the film oversimplified the character of Napoleon and did not accurately depict his military genius. They also pointed out specific scenes, such as an artilleryman taking part in a cavalry charge, as being historically inaccurate. \\n\\nHowever, other reviewers seemed to be more forgiving of the historical inaccuracies, stating that the movie was a well-rounded portrayal of Napoleon's reign and that it delivered a convincing portrayal of European aristocracy of the 1790s and early 1800s. They also praised the film for its battle scenes and costumes. \\n\\nOverall, while some viewers were disappointed with the historical inaccuracies, others seemed to enjoy the film for its entertainment value and did not seem to be overly concerned with its historical accuracy.\"), HumanMessage(content='What is a quick summary of the plot of the Napoleon  movie?'), AIMessage(content='', additional_kwargs={'function_call': {'arguments': '{\\n  \"query\": \"plot of Napoleon movie\"\\n}', 'name': 'Wikipedia'}}, response_metadata={'token_usage': {'completion_tokens': 18, 'prompt_tokens': 1104, 'total_tokens': 1122}, 'model_name': 'gpt-4', 'system_fingerprint': None, 'finish_reason': 'function_call', 'logprobs': None}, id='run-8086d446-5b20-4242-925c-c8557351eb3a-0', usage_metadata={'input_tokens': 1104, 'output_tokens': 18, 'total_tokens': 1122}), FunctionMessage(content='Napoleon is a 2023 epic historical drama film directed and co-produced by Ridley Scott and written by David Scarpa. Based on the story of Napoleon Bonaparte and primarily depicting his rise to power as well as his relationship with his wife, Joséphine Bonaparte, it stars Joaquin Phoenix as Napoleon and Vanessa Kirby as Joséphine.\\n\\nJoan Tumblety wrote that the movie ignored French atrocities such as those committed after the Siege of Jaffa.', name='Wikipedia'), AIMessage(content='The Napoleon movie, directed by Ridley Scott and written by David Scarpa, is an epic historical drama film released in 2023. The film primarily depicts the rise to power of Napoleon Bonaparte and his relationship with his wife, Joséphine Bonaparte. The lead roles are played by Joaquin Phoenix as Napoleon and Vanessa Kirby as Joséphine. The movie has been criticized for ignoring certain historical events, such as the French atrocities committed after the Siege of Jaffa.'), HumanMessage(content='{\"input\": \"What do people today think about Napoleon?\"}'), AIMessage(content='', additional_kwargs={'function_call': {'arguments': '{\\n  \"query\": \"public opinion on Napoleon movie\"\\n}', 'name': 'PublicReviews'}}, response_metadata={'token_usage': {'completion_tokens': 19, 'prompt_tokens': 1348, 'total_tokens': 1367}, 'model_name': 'gpt-4', 'system_fingerprint': None, 'finish_reason': 'function_call', 'logprobs': None}, id='run-533aa1db-6922-4458-bf11-c0b009636ef2-0', usage_metadata={'input_tokens': 1348, 'output_tokens': 19, 'total_tokens': 1367}), FunctionMessage(content='Review_Date: 9-Dec-23\\nAuthor: adambarta\\nRating: 6\\nReview_Title: Hollywood overtaking over quality\\nReview: Once I found out that there will be a movie about Napoleon starring Joaquin Phoenix, I got excited. What a great idea? It\\'s one of the most interesting people in history, of course this would make a great movie.\\nReview_Url: /review/rw9450470/?ref_=tt_urv\\n\\nReview_Date: 26-Nov-23\\nAuthor: krzysiektom\\nRating: 2\\nReview_Title: Awful.\\nReview: What a disappointment. This film is BORING. A movie with a huge budget, good actors, about a person as fascinating and complex as Bonaparte, who participated in more than 60 battles and had drama, triumphs and failures that would be enough for a few lifetimes, is... BORING! Nothing is well explained, it\\'s unclear who is who beside Napoleon and Josephine. Several unnecessary sex scenes between the two. What\\'s even worse is that it\\'s unclear why the French nation would follow and worship this Napoleon as he\\'s portrayed in this movie, because in this movie he seems a mediocre personality, without much charisma or extraordinary abilities. In addition, everything on the screen looks greyish blue, without vivid colors, and it is a bit depressing. I liked only two elements of this movie: musical score and costumes.\\nReview_Url: /review/rw9450470/?ref_=tt_urv\\n\\nReview: \"Napoleon\" leaves you completely indifferent and emotionally cold. In my opinion, this is the disappointment of the movie year so far. Phoenix is tragically underchallenged and grunts unmotivatedly through the \"plot\" when he\\'s not ramming Josephine like a billy goat or sleeping standing up (I fear that this excellent actor\\'s eyes had actually closed in the face of this direction). Sure, very beautiful images and sceneries, beautiful costumes, you can feel the huge amount of money there. But imho the whole movie is just like a series of expensive reenactments for a embarassingly sloppy researched documentary, only without a documentary in between. There is not a single truly credible interaction between the characters, the \"love story\" between Josephine and Napoleon is completely superficial (not to mention the incomprehensible idea of making the actress playing Josephine appear much younger than Napoleon, while in historical reality she was over 10 years older). Basically,\\n\\nReview_Date: 22-Nov-23\\nAuthor: WadoodS\\nRating: 5\\nReview_Title: Napoleon Deserved Better\\nReview: Making a movie on a charismatic person like Napoleon is a huge undertaking. It requires in-depth study of his life and then choosing specific events of his life to show and connecting them to perfection. The film maker is short in time therefore it is important for the movie to be precise, fluent and with a purpose. In this movie, the director, Ridley Scott, fails to determine which points of his life he wishes to portray and consequently it results in a piece-by-piece movie which lacks cinematic flow and confuses the audience.\\nReview_Url: /review/rw9450470/?ref_=tt_urv', name='PublicReviews'), AIMessage(content='Public opinion on the Napoleon movie is mixed. Some viewers were excited about the idea of a movie about Napoleon, especially with Joaquin Phoenix in the lead role. They found Napoleon to be one of the most interesting figures in history and were looking forward to seeing his story on the big screen.\\n\\nHowever, many viewers were disappointed with the film. They found it boring and felt that it did not do justice to the fascinating and complex character of Napoleon. They criticized the film for not explaining things well, for having unnecessary sex scenes, and for not making it clear why the French nation would follow and worship Napoleon as he was portrayed in the movie. They also felt that the movie was visually depressing, with a greyish-blue color palette.\\n\\nSome viewers also felt that the movie did not have a clear focus and lacked cinematic flow, resulting in a confusing viewing experience. They felt that making a movie about a charismatic person like Napoleon required an in-depth study of his life and a careful selection of specific events to portray, and they felt that the director, Ridley Scott, failed to do this.\\n\\nDespite these criticisms, some viewers did appreciate certain elements of the movie, such as the musical score and costumes.'), HumanMessage(content='What are some key themes or ideas associated with Napoleon?\\n'), AIMessage(content='', additional_kwargs={'function_call': {'arguments': '{\\n  \"query\": \"themes and ideas associated with Napoleon Bonaparte\"\\n}', 'name': 'Wikipedia'}}, response_metadata={'token_usage': {'completion_tokens': 23, 'prompt_tokens': 1523, 'total_tokens': 1546}, 'model_name': 'gpt-4', 'system_fingerprint': None, 'finish_reason': 'function_call', 'logprobs': None}, id='run-b48ae19e-1c94-450d-9f3d-3c82ef3f4931-0', usage_metadata={'input_tokens': 1523, 'output_tokens': 23, 'total_tokens': 1546}), FunctionMessage(content='Napoleon was known for his passion for literature and Enlightenment thought – a far cry from the boorish, loutish soldier that Scott depicts. French historian Patrice Gueniffey called the movie \"anti-French\" and full of historical inaccuracies, while fellow historian Romain Marsily found the portrayal of Napoleon \"lackluster\" and “mediocre” while disregarding Napoleon\\'s positive legacies such as the Napoleonic Code. Spanish historian Francisco Gracia Alonso called the film \"a crime\". Historian\\n\\nNapoleon is a 2023 epic historical drama film directed and co-produced by Ridley Scott and written by David Scarpa. Based on the story of Napoleon Bonaparte and primarily depicting his rise to power as well as his relationship with his wife, Joséphine Bonaparte, it stars Joaquin Phoenix as Napoleon and Vanessa Kirby as Joséphine.', name='Wikipedia'), AIMessage(content=\"Napoleon Bonaparte is associated with several key themes and ideas:\\n\\n1. **Enlightenment Thought**: Napoleon was known for his passion for literature and Enlightenment thought. He was a proponent of the principles of the French Revolution, including liberty, equality, and fraternity.\\n\\n2. **Rise to Power**: Napoleon's rise to power from a relatively obscure background to becoming the ruler of France is a significant theme associated with him. His military genius, political acumen, and charismatic leadership played a crucial role in his ascent.\\n\\n3. **Napoleonic Code**: One of Napoleon's most lasting legacies is the Napoleonic Code, a legal code that forms the basis of many civil law systems around the world today. It introduced various reforms, including the equality of all citizens before the law, the right to choose one's profession, and the separation of church and state.\\n\\n4. **Relationship with Joséphine**: Napoleon's relationship with his wife, Joséphine, is another key theme associated with him. Their relationship was complex and marked by both intense love and tumultuous conflicts.\\n\\nHowever, it's important to note that these themes and ideas have been subject to various interpretations and debates among historians. Some have criticized portrayals of Napoleon, such as in the 2023 film directed by Ridley Scott, for being historically inaccurate and for not adequately reflecting Napoleon's positive legacies.\")], 'output': \"Napoleon Bonaparte is associated with several key themes and ideas:\\n\\n1. **Enlightenment Thought**: Napoleon was known for his passion for literature and Enlightenment thought. He was a proponent of the principles of the French Revolution, including liberty, equality, and fraternity.\\n\\n2. **Rise to Power**: Napoleon's rise to power from a relatively obscure background to becoming the ruler of France is a significant theme associated with him. His military genius, political acumen, and charismatic leadership played a crucial role in his ascent.\\n\\n3. **Napoleonic Code**: One of Napoleon's most lasting legacies is the Napoleonic Code, a legal code that forms the basis of many civil law systems around the world today. It introduced various reforms, including the equality of all citizens before the law, the right to choose one's profession, and the separation of church and state.\\n\\n4. **Relationship with Joséphine**: Napoleon's relationship with his wife, Joséphine, is another key theme associated with him. Their relationship was complex and marked by both intense love and tumultuous conflicts.\\n\\nHowever, it's important to note that these themes and ideas have been subject to various interpretations and debates among historians. Some have criticized portrayals of Napoleon, such as in the 2023 film directed by Ridley Scott, for being historically inaccurate and for not adequately reflecting Napoleon's positive legacies.\", 'intermediate_steps': [(AgentActionMessageLog(tool='Wikipedia', tool_input={'query': 'themes and ideas associated with Napoleon Bonaparte'}, log=\"\\nInvoking: `Wikipedia` with `{'query': 'themes and ideas associated with Napoleon Bonaparte'}`\\n\\n\\n\", message_log=[AIMessage(content='', additional_kwargs={'function_call': {'arguments': '{\\n  \"query\": \"themes and ideas associated with Napoleon Bonaparte\"\\n}', 'name': 'Wikipedia'}}, response_metadata={'token_usage': {'completion_tokens': 23, 'prompt_tokens': 1523, 'total_tokens': 1546}, 'model_name': 'gpt-4', 'system_fingerprint': None, 'finish_reason': 'function_call', 'logprobs': None}, id='run-b48ae19e-1c94-450d-9f3d-3c82ef3f4931-0', usage_metadata={'input_tokens': 1523, 'output_tokens': 23, 'total_tokens': 1546})]), 'Napoleon was known for his passion for literature and Enlightenment thought – a far cry from the boorish, loutish soldier that Scott depicts. French historian Patrice Gueniffey called the movie \"anti-French\" and full of historical inaccuracies, while fellow historian Romain Marsily found the portrayal of Napoleon \"lackluster\" and “mediocre” while disregarding Napoleon\\'s positive legacies such as the Napoleonic Code. Spanish historian Francisco Gracia Alonso called the film \"a crime\". Historian\\n\\nNapoleon is a 2023 epic historical drama film directed and co-produced by Ridley Scott and written by David Scarpa. Based on the story of Napoleon Bonaparte and primarily depicting his rise to power as well as his relationship with his wife, Joséphine Bonaparte, it stars Joaquin Phoenix as Napoleon and Vanessa Kirby as Joséphine.')]}\u001b[0m\n",
            "Thought:\u001b[32;1m\u001b[1;3mNow that I have information about the key themes associated with Napoleon, I need to get similar information about Alexander to compare and find any similarities.\n",
            "\n",
            "Action: alexanderinfo\n",
            "Action Input: What are some key themes or ideas associated with Alexander?\u001b[0m\n",
            "Observation: \u001b[33;1m\u001b[1;3mcontent=\"The key themes or ideas associated with Alexander include love, honor, music, exploration, poetry, and military combat. The movie also explores his relationships with his mother Olympias, his tutor Aristotle, and his father, Philip II of Macedon. His relationship with his father is particularly strained due to Philip's marriage to Eurydice, which results in Alexander's banishment. The film also depicts Alexander's conquests and his rule over the territories he conquered.\" response_metadata={'token_usage': {'completion_tokens': 92, 'prompt_tokens': 1651, 'total_tokens': 1743}, 'model_name': 'gpt-4', 'system_fingerprint': None, 'finish_reason': 'stop', 'logprobs': None} id='run-7f948558-bbfc-4827-aa4c-5adee0f0aee0-0' usage_metadata={'input_tokens': 1651, 'output_tokens': 92, 'total_tokens': 1743}\u001b[0m\n",
            "Thought:\u001b[32;1m\u001b[1;3mNow that I have information about the key themes associated with both Napoleon and Alexander, I can compare them to find any similarities.\n",
            "\n",
            "Final Answer: The key themes or ideas associated with Napoleon include Enlightenment Thought, his rise to power, the Napoleonic Code, and his relationship with Joséphine. For Alexander, the key themes include love, honor, music, exploration, poetry, military combat, and his relationships with his mother Olympias, his tutor Aristotle, and his father, Philip II of Macedon. \n",
            "\n",
            "While both figures are associated with themes of power and relationships, the specific themes and ideas associated with each are quite distinct. Napoleon is more associated with political and legal reforms and Enlightenment thought, while Alexander is associated with themes of love, honor, music, and exploration. Therefore, it's not clear that the movies Napoleon and Alexander would share similar themes or ideas based on the themes associated with the historical figures themselves.\u001b[0m\n",
            "\n",
            "\u001b[1m> Finished chain.\u001b[0m\n"
          ]
        },
        {
          "output_type": "execute_result",
          "data": {
            "text/plain": [
              "{'input': 'Did the movies Napoleon and Alexander share similar themes or ideas?',\n",
              " 'output': \"The key themes or ideas associated with Napoleon include Enlightenment Thought, his rise to power, the Napoleonic Code, and his relationship with Joséphine. For Alexander, the key themes include love, honor, music, exploration, poetry, military combat, and his relationships with his mother Olympias, his tutor Aristotle, and his father, Philip II of Macedon. \\n\\nWhile both figures are associated with themes of power and relationships, the specific themes and ideas associated with each are quite distinct. Napoleon is more associated with political and legal reforms and Enlightenment thought, while Alexander is associated with themes of love, honor, music, and exploration. Therefore, it's not clear that the movies Napoleon and Alexander would share similar themes or ideas based on the themes associated with the historical figures themselves.\"}"
            ]
          },
          "metadata": {},
          "execution_count": 74
        }
      ],
      "source": [
        "napoleonalexander_agent_chain.invoke({\"input\" : \"Did the movies Napoleon and Alexander share similar themes or ideas?\"})"
      ]
    },
    {
      "cell_type": "markdown",
      "metadata": {
        "id": "GLCJ84gSi7nh"
      },
      "source": [
        "**Conclusion**\n",
        "\n",
        "* This concludes the examples of LangChain based Agentic Retrieval and Question Answering (RAQA)"
      ]
    }
  ],
  "metadata": {
    "accelerator": "GPU",
    "colab": {
      "gpuType": "T4",
      "provenance": []
    },
    "kernelspec": {
      "display_name": "Python 3 (ipykernel)",
      "language": "python",
      "name": "python3"
    },
    "language_info": {
      "codemirror_mode": {
        "name": "ipython",
        "version": 3
      },
      "file_extension": ".py",
      "mimetype": "text/x-python",
      "name": "python",
      "nbconvert_exporter": "python",
      "pygments_lexer": "ipython3",
      "version": "3.11.5"
    }
  },
  "nbformat": 4,
  "nbformat_minor": 0
}